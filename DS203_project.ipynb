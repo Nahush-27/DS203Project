{
  "cells": [
    {
      "cell_type": "code",
      "execution_count": 492,
      "metadata": {
        "id": "FH5YcZ9BiN8E"
      },
      "outputs": [],
      "source": [
        "#importing the libraries and packages\n",
        "import pandas as pd\n",
        "import matplotlib.pyplot as plt\n",
        "import seaborn as sb\n",
        "import numpy as np\n",
        "import pylab\n",
        "from pandas.plotting import scatter_matrix\n",
        "import scipy.stats as stats\n",
        "import statsmodels.api as sm \n",
        "from IPython.display import display, Math, Latex\n",
        "from statistics import mode\n",
        "import collections"
      ]
    },
    {
      "cell_type": "markdown",
      "metadata": {
        "id": "smDLJFOaRQeP"
      },
      "source": [
        "# **Cleaning the Data**"
      ]
    },
    {
      "cell_type": "markdown",
      "source": [
        "We have 2 csv files namely \"animes\" and \"profiles\" to analyze. We will clean them one by one"
      ],
      "metadata": {
        "id": "dfGERnzak010"
      }
    },
    {
      "cell_type": "code",
      "execution_count": 493,
      "metadata": {
        "id": "_TuuN6WBiqGd",
        "colab": {
          "base_uri": "https://localhost:8080/"
        },
        "outputId": "e6b9a552-a23c-4afb-f058-7b90cf61f85a"
      },
      "outputs": [
        {
          "output_type": "stream",
          "name": "stdout",
          "text": [
            "<class 'pandas.core.frame.DataFrame'>\n",
            "RangeIndex: 19311 entries, 0 to 19310\n",
            "Data columns (total 12 columns):\n",
            " #   Column      Non-Null Count  Dtype  \n",
            "---  ------      --------------  -----  \n",
            " 0   uid         19311 non-null  int64  \n",
            " 1   title       19311 non-null  object \n",
            " 2   synopsis    18336 non-null  object \n",
            " 3   genre       19311 non-null  object \n",
            " 4   aired       19311 non-null  object \n",
            " 5   episodes    18605 non-null  float64\n",
            " 6   members     19311 non-null  int64  \n",
            " 7   popularity  19311 non-null  int64  \n",
            " 8   ranked      16099 non-null  float64\n",
            " 9   score       18732 non-null  float64\n",
            " 10  img_url     19131 non-null  object \n",
            " 11  link        19311 non-null  object \n",
            "dtypes: float64(3), int64(3), object(6)\n",
            "memory usage: 1.8+ MB\n"
          ]
        }
      ],
      "source": [
        "dfanime = pd.read_csv('animes.csv')            #reading animes dataset\n",
        "dfanime.info()"
      ]
    },
    {
      "cell_type": "code",
      "source": [
        "dfanime"
      ],
      "metadata": {
        "id": "JQIK1ObSdHwa",
        "colab": {
          "base_uri": "https://localhost:8080/",
          "height": 1000
        },
        "outputId": "2ca1ff34-f920-4414-cd60-a07602bc96c2"
      },
      "execution_count": 494,
      "outputs": [
        {
          "output_type": "execute_result",
          "data": {
            "text/plain": [
              "         uid                                        title  \\\n",
              "0      28891                      Haikyuu!! Second Season   \n",
              "1      23273                      Shigatsu wa Kimi no Uso   \n",
              "2      34599                                Made in Abyss   \n",
              "3       5114             Fullmetal Alchemist: Brotherhood   \n",
              "4      31758             Kizumonogatari III: Reiketsu-hen   \n",
              "...      ...                                          ...   \n",
              "19306  32979                                Flip Flappers   \n",
              "19307    123                                Fushigi Yuugi   \n",
              "19308   1281                             Gakkou no Kaidan   \n",
              "19309    450  InuYasha Movie 2: Kagami no Naka no Mugenjo   \n",
              "19310     87     Mobile Suit Gundam: Char's Counterattack   \n",
              "\n",
              "                                                synopsis  \\\n",
              "0      Following their participation at the Inter-Hig...   \n",
              "1      Music accompanies the path of the human metron...   \n",
              "2      The Abyss—a gaping chasm stretching down into ...   \n",
              "3      \"In order for something to be obtained, someth...   \n",
              "4      After helping revive the legendary vampire Kis...   \n",
              "...                                                  ...   \n",
              "19306  Cocona is an average middle schooler living wi...   \n",
              "19307  While visiting the National Library, junior-hi...   \n",
              "19308  Years ago, all of the ghosts in a haunted scho...   \n",
              "19309  Inuyasha and company have finally destroyed Na...   \n",
              "19310  The year is Universal Century 0093. Char Aznab...   \n",
              "\n",
              "                                                   genre  \\\n",
              "0      ['Comedy', 'Sports', 'Drama', 'School', 'Shoun...   \n",
              "1      ['Drama', 'Music', 'Romance', 'School', 'Shoun...   \n",
              "2      ['Sci-Fi', 'Adventure', 'Mystery', 'Drama', 'F...   \n",
              "3      ['Action', 'Military', 'Adventure', 'Comedy', ...   \n",
              "4       ['Action', 'Mystery', 'Supernatural', 'Vampire']   \n",
              "...                                                  ...   \n",
              "19306         ['Sci-Fi', 'Adventure', 'Comedy', 'Magic']   \n",
              "19307  ['Adventure', 'Fantasy', 'Magic', 'Martial Art...   \n",
              "19308              ['Mystery', 'Horror', 'Supernatural']   \n",
              "19309  ['Action', 'Adventure', 'Comedy', 'Historical'...   \n",
              "19310  ['Military', 'Sci-Fi', 'Space', 'Drama', 'Mecha']   \n",
              "\n",
              "                              aired  episodes  members  popularity  ranked  \\\n",
              "0       Oct 4, 2015 to Mar 27, 2016      25.0   489888         141    25.0   \n",
              "1      Oct 10, 2014 to Mar 20, 2015      22.0   995473          28    24.0   \n",
              "2       Jul 7, 2017 to Sep 29, 2017      13.0   581663          98    23.0   \n",
              "3        Apr 5, 2009 to Jul 4, 2010      64.0  1615084           4     1.0   \n",
              "4                       Jan 6, 2017       1.0   214621         502    22.0   \n",
              "...                             ...       ...      ...         ...     ...   \n",
              "19306   Oct 6, 2016 to Dec 29, 2016      13.0   134252         843  1070.0   \n",
              "19307   Apr 6, 1995 to Mar 28, 1996      52.0    84407        1292  1071.0   \n",
              "19308  Oct 22, 2000 to Mar 25, 2001      19.0    83093        1314  1073.0   \n",
              "19309                  Dec 21, 2002       1.0    71989        1469  1077.0   \n",
              "19310                  Mar 12, 1988       1.0    29248        2604  1081.0   \n",
              "\n",
              "       score                                            img_url  \\\n",
              "0       8.82  https://cdn.myanimelist.net/images/anime/9/766...   \n",
              "1       8.83  https://cdn.myanimelist.net/images/anime/3/671...   \n",
              "2       8.83  https://cdn.myanimelist.net/images/anime/6/867...   \n",
              "3       9.23  https://cdn.myanimelist.net/images/anime/1223/...   \n",
              "4       8.83  https://cdn.myanimelist.net/images/anime/3/815...   \n",
              "...      ...                                                ...   \n",
              "19306   7.73  https://cdn.myanimelist.net/images/anime/4/822...   \n",
              "19307   7.73  https://cdn.myanimelist.net/images/anime/2/201...   \n",
              "19308   7.73  https://cdn.myanimelist.net/images/anime/9/183...   \n",
              "19309   7.73  https://cdn.myanimelist.net/images/anime/1162/...   \n",
              "19310   7.73  https://cdn.myanimelist.net/images/anime/1523/...   \n",
              "\n",
              "                                                    link  \n",
              "0      https://myanimelist.net/anime/28891/Haikyuu_Se...  \n",
              "1      https://myanimelist.net/anime/23273/Shigatsu_w...  \n",
              "2      https://myanimelist.net/anime/34599/Made_in_Abyss  \n",
              "3      https://myanimelist.net/anime/5114/Fullmetal_A...  \n",
              "4      https://myanimelist.net/anime/31758/Kizumonoga...  \n",
              "...                                                  ...  \n",
              "19306  https://myanimelist.net/anime/32979/Flip_Flappers  \n",
              "19307    https://myanimelist.net/anime/123/Fushigi_Yuugi  \n",
              "19308  https://myanimelist.net/anime/1281/Gakkou_no_K...  \n",
              "19309  https://myanimelist.net/anime/450/InuYasha_Mov...  \n",
              "19310  https://myanimelist.net/anime/87/Mobile_Suit_G...  \n",
              "\n",
              "[19311 rows x 12 columns]"
            ],
            "text/html": [
              "\n",
              "  <div id=\"df-b2c9347e-4b99-453f-b99e-26355b179fa0\">\n",
              "    <div class=\"colab-df-container\">\n",
              "      <div>\n",
              "<style scoped>\n",
              "    .dataframe tbody tr th:only-of-type {\n",
              "        vertical-align: middle;\n",
              "    }\n",
              "\n",
              "    .dataframe tbody tr th {\n",
              "        vertical-align: top;\n",
              "    }\n",
              "\n",
              "    .dataframe thead th {\n",
              "        text-align: right;\n",
              "    }\n",
              "</style>\n",
              "<table border=\"1\" class=\"dataframe\">\n",
              "  <thead>\n",
              "    <tr style=\"text-align: right;\">\n",
              "      <th></th>\n",
              "      <th>uid</th>\n",
              "      <th>title</th>\n",
              "      <th>synopsis</th>\n",
              "      <th>genre</th>\n",
              "      <th>aired</th>\n",
              "      <th>episodes</th>\n",
              "      <th>members</th>\n",
              "      <th>popularity</th>\n",
              "      <th>ranked</th>\n",
              "      <th>score</th>\n",
              "      <th>img_url</th>\n",
              "      <th>link</th>\n",
              "    </tr>\n",
              "  </thead>\n",
              "  <tbody>\n",
              "    <tr>\n",
              "      <th>0</th>\n",
              "      <td>28891</td>\n",
              "      <td>Haikyuu!! Second Season</td>\n",
              "      <td>Following their participation at the Inter-Hig...</td>\n",
              "      <td>['Comedy', 'Sports', 'Drama', 'School', 'Shoun...</td>\n",
              "      <td>Oct 4, 2015 to Mar 27, 2016</td>\n",
              "      <td>25.0</td>\n",
              "      <td>489888</td>\n",
              "      <td>141</td>\n",
              "      <td>25.0</td>\n",
              "      <td>8.82</td>\n",
              "      <td>https://cdn.myanimelist.net/images/anime/9/766...</td>\n",
              "      <td>https://myanimelist.net/anime/28891/Haikyuu_Se...</td>\n",
              "    </tr>\n",
              "    <tr>\n",
              "      <th>1</th>\n",
              "      <td>23273</td>\n",
              "      <td>Shigatsu wa Kimi no Uso</td>\n",
              "      <td>Music accompanies the path of the human metron...</td>\n",
              "      <td>['Drama', 'Music', 'Romance', 'School', 'Shoun...</td>\n",
              "      <td>Oct 10, 2014 to Mar 20, 2015</td>\n",
              "      <td>22.0</td>\n",
              "      <td>995473</td>\n",
              "      <td>28</td>\n",
              "      <td>24.0</td>\n",
              "      <td>8.83</td>\n",
              "      <td>https://cdn.myanimelist.net/images/anime/3/671...</td>\n",
              "      <td>https://myanimelist.net/anime/23273/Shigatsu_w...</td>\n",
              "    </tr>\n",
              "    <tr>\n",
              "      <th>2</th>\n",
              "      <td>34599</td>\n",
              "      <td>Made in Abyss</td>\n",
              "      <td>The Abyss—a gaping chasm stretching down into ...</td>\n",
              "      <td>['Sci-Fi', 'Adventure', 'Mystery', 'Drama', 'F...</td>\n",
              "      <td>Jul 7, 2017 to Sep 29, 2017</td>\n",
              "      <td>13.0</td>\n",
              "      <td>581663</td>\n",
              "      <td>98</td>\n",
              "      <td>23.0</td>\n",
              "      <td>8.83</td>\n",
              "      <td>https://cdn.myanimelist.net/images/anime/6/867...</td>\n",
              "      <td>https://myanimelist.net/anime/34599/Made_in_Abyss</td>\n",
              "    </tr>\n",
              "    <tr>\n",
              "      <th>3</th>\n",
              "      <td>5114</td>\n",
              "      <td>Fullmetal Alchemist: Brotherhood</td>\n",
              "      <td>\"In order for something to be obtained, someth...</td>\n",
              "      <td>['Action', 'Military', 'Adventure', 'Comedy', ...</td>\n",
              "      <td>Apr 5, 2009 to Jul 4, 2010</td>\n",
              "      <td>64.0</td>\n",
              "      <td>1615084</td>\n",
              "      <td>4</td>\n",
              "      <td>1.0</td>\n",
              "      <td>9.23</td>\n",
              "      <td>https://cdn.myanimelist.net/images/anime/1223/...</td>\n",
              "      <td>https://myanimelist.net/anime/5114/Fullmetal_A...</td>\n",
              "    </tr>\n",
              "    <tr>\n",
              "      <th>4</th>\n",
              "      <td>31758</td>\n",
              "      <td>Kizumonogatari III: Reiketsu-hen</td>\n",
              "      <td>After helping revive the legendary vampire Kis...</td>\n",
              "      <td>['Action', 'Mystery', 'Supernatural', 'Vampire']</td>\n",
              "      <td>Jan 6, 2017</td>\n",
              "      <td>1.0</td>\n",
              "      <td>214621</td>\n",
              "      <td>502</td>\n",
              "      <td>22.0</td>\n",
              "      <td>8.83</td>\n",
              "      <td>https://cdn.myanimelist.net/images/anime/3/815...</td>\n",
              "      <td>https://myanimelist.net/anime/31758/Kizumonoga...</td>\n",
              "    </tr>\n",
              "    <tr>\n",
              "      <th>...</th>\n",
              "      <td>...</td>\n",
              "      <td>...</td>\n",
              "      <td>...</td>\n",
              "      <td>...</td>\n",
              "      <td>...</td>\n",
              "      <td>...</td>\n",
              "      <td>...</td>\n",
              "      <td>...</td>\n",
              "      <td>...</td>\n",
              "      <td>...</td>\n",
              "      <td>...</td>\n",
              "      <td>...</td>\n",
              "    </tr>\n",
              "    <tr>\n",
              "      <th>19306</th>\n",
              "      <td>32979</td>\n",
              "      <td>Flip Flappers</td>\n",
              "      <td>Cocona is an average middle schooler living wi...</td>\n",
              "      <td>['Sci-Fi', 'Adventure', 'Comedy', 'Magic']</td>\n",
              "      <td>Oct 6, 2016 to Dec 29, 2016</td>\n",
              "      <td>13.0</td>\n",
              "      <td>134252</td>\n",
              "      <td>843</td>\n",
              "      <td>1070.0</td>\n",
              "      <td>7.73</td>\n",
              "      <td>https://cdn.myanimelist.net/images/anime/4/822...</td>\n",
              "      <td>https://myanimelist.net/anime/32979/Flip_Flappers</td>\n",
              "    </tr>\n",
              "    <tr>\n",
              "      <th>19307</th>\n",
              "      <td>123</td>\n",
              "      <td>Fushigi Yuugi</td>\n",
              "      <td>While visiting the National Library, junior-hi...</td>\n",
              "      <td>['Adventure', 'Fantasy', 'Magic', 'Martial Art...</td>\n",
              "      <td>Apr 6, 1995 to Mar 28, 1996</td>\n",
              "      <td>52.0</td>\n",
              "      <td>84407</td>\n",
              "      <td>1292</td>\n",
              "      <td>1071.0</td>\n",
              "      <td>7.73</td>\n",
              "      <td>https://cdn.myanimelist.net/images/anime/2/201...</td>\n",
              "      <td>https://myanimelist.net/anime/123/Fushigi_Yuugi</td>\n",
              "    </tr>\n",
              "    <tr>\n",
              "      <th>19308</th>\n",
              "      <td>1281</td>\n",
              "      <td>Gakkou no Kaidan</td>\n",
              "      <td>Years ago, all of the ghosts in a haunted scho...</td>\n",
              "      <td>['Mystery', 'Horror', 'Supernatural']</td>\n",
              "      <td>Oct 22, 2000 to Mar 25, 2001</td>\n",
              "      <td>19.0</td>\n",
              "      <td>83093</td>\n",
              "      <td>1314</td>\n",
              "      <td>1073.0</td>\n",
              "      <td>7.73</td>\n",
              "      <td>https://cdn.myanimelist.net/images/anime/9/183...</td>\n",
              "      <td>https://myanimelist.net/anime/1281/Gakkou_no_K...</td>\n",
              "    </tr>\n",
              "    <tr>\n",
              "      <th>19309</th>\n",
              "      <td>450</td>\n",
              "      <td>InuYasha Movie 2: Kagami no Naka no Mugenjo</td>\n",
              "      <td>Inuyasha and company have finally destroyed Na...</td>\n",
              "      <td>['Action', 'Adventure', 'Comedy', 'Historical'...</td>\n",
              "      <td>Dec 21, 2002</td>\n",
              "      <td>1.0</td>\n",
              "      <td>71989</td>\n",
              "      <td>1469</td>\n",
              "      <td>1077.0</td>\n",
              "      <td>7.73</td>\n",
              "      <td>https://cdn.myanimelist.net/images/anime/1162/...</td>\n",
              "      <td>https://myanimelist.net/anime/450/InuYasha_Mov...</td>\n",
              "    </tr>\n",
              "    <tr>\n",
              "      <th>19310</th>\n",
              "      <td>87</td>\n",
              "      <td>Mobile Suit Gundam: Char's Counterattack</td>\n",
              "      <td>The year is Universal Century 0093. Char Aznab...</td>\n",
              "      <td>['Military', 'Sci-Fi', 'Space', 'Drama', 'Mecha']</td>\n",
              "      <td>Mar 12, 1988</td>\n",
              "      <td>1.0</td>\n",
              "      <td>29248</td>\n",
              "      <td>2604</td>\n",
              "      <td>1081.0</td>\n",
              "      <td>7.73</td>\n",
              "      <td>https://cdn.myanimelist.net/images/anime/1523/...</td>\n",
              "      <td>https://myanimelist.net/anime/87/Mobile_Suit_G...</td>\n",
              "    </tr>\n",
              "  </tbody>\n",
              "</table>\n",
              "<p>19311 rows × 12 columns</p>\n",
              "</div>\n",
              "      <button class=\"colab-df-convert\" onclick=\"convertToInteractive('df-b2c9347e-4b99-453f-b99e-26355b179fa0')\"\n",
              "              title=\"Convert this dataframe to an interactive table.\"\n",
              "              style=\"display:none;\">\n",
              "        \n",
              "  <svg xmlns=\"http://www.w3.org/2000/svg\" height=\"24px\"viewBox=\"0 0 24 24\"\n",
              "       width=\"24px\">\n",
              "    <path d=\"M0 0h24v24H0V0z\" fill=\"none\"/>\n",
              "    <path d=\"M18.56 5.44l.94 2.06.94-2.06 2.06-.94-2.06-.94-.94-2.06-.94 2.06-2.06.94zm-11 1L8.5 8.5l.94-2.06 2.06-.94-2.06-.94L8.5 2.5l-.94 2.06-2.06.94zm10 10l.94 2.06.94-2.06 2.06-.94-2.06-.94-.94-2.06-.94 2.06-2.06.94z\"/><path d=\"M17.41 7.96l-1.37-1.37c-.4-.4-.92-.59-1.43-.59-.52 0-1.04.2-1.43.59L10.3 9.45l-7.72 7.72c-.78.78-.78 2.05 0 2.83L4 21.41c.39.39.9.59 1.41.59.51 0 1.02-.2 1.41-.59l7.78-7.78 2.81-2.81c.8-.78.8-2.07 0-2.86zM5.41 20L4 18.59l7.72-7.72 1.47 1.35L5.41 20z\"/>\n",
              "  </svg>\n",
              "      </button>\n",
              "      \n",
              "  <style>\n",
              "    .colab-df-container {\n",
              "      display:flex;\n",
              "      flex-wrap:wrap;\n",
              "      gap: 12px;\n",
              "    }\n",
              "\n",
              "    .colab-df-convert {\n",
              "      background-color: #E8F0FE;\n",
              "      border: none;\n",
              "      border-radius: 50%;\n",
              "      cursor: pointer;\n",
              "      display: none;\n",
              "      fill: #1967D2;\n",
              "      height: 32px;\n",
              "      padding: 0 0 0 0;\n",
              "      width: 32px;\n",
              "    }\n",
              "\n",
              "    .colab-df-convert:hover {\n",
              "      background-color: #E2EBFA;\n",
              "      box-shadow: 0px 1px 2px rgba(60, 64, 67, 0.3), 0px 1px 3px 1px rgba(60, 64, 67, 0.15);\n",
              "      fill: #174EA6;\n",
              "    }\n",
              "\n",
              "    [theme=dark] .colab-df-convert {\n",
              "      background-color: #3B4455;\n",
              "      fill: #D2E3FC;\n",
              "    }\n",
              "\n",
              "    [theme=dark] .colab-df-convert:hover {\n",
              "      background-color: #434B5C;\n",
              "      box-shadow: 0px 1px 3px 1px rgba(0, 0, 0, 0.15);\n",
              "      filter: drop-shadow(0px 1px 2px rgba(0, 0, 0, 0.3));\n",
              "      fill: #FFFFFF;\n",
              "    }\n",
              "  </style>\n",
              "\n",
              "      <script>\n",
              "        const buttonEl =\n",
              "          document.querySelector('#df-b2c9347e-4b99-453f-b99e-26355b179fa0 button.colab-df-convert');\n",
              "        buttonEl.style.display =\n",
              "          google.colab.kernel.accessAllowed ? 'block' : 'none';\n",
              "\n",
              "        async function convertToInteractive(key) {\n",
              "          const element = document.querySelector('#df-b2c9347e-4b99-453f-b99e-26355b179fa0');\n",
              "          const dataTable =\n",
              "            await google.colab.kernel.invokeFunction('convertToInteractive',\n",
              "                                                     [key], {});\n",
              "          if (!dataTable) return;\n",
              "\n",
              "          const docLinkHtml = 'Like what you see? Visit the ' +\n",
              "            '<a target=\"_blank\" href=https://colab.research.google.com/notebooks/data_table.ipynb>data table notebook</a>'\n",
              "            + ' to learn more about interactive tables.';\n",
              "          element.innerHTML = '';\n",
              "          dataTable['output_type'] = 'display_data';\n",
              "          await google.colab.output.renderOutput(dataTable, element);\n",
              "          const docLink = document.createElement('div');\n",
              "          docLink.innerHTML = docLinkHtml;\n",
              "          element.appendChild(docLink);\n",
              "        }\n",
              "      </script>\n",
              "    </div>\n",
              "  </div>\n",
              "  "
            ]
          },
          "metadata": {},
          "execution_count": 494
        }
      ]
    },
    {
      "cell_type": "code",
      "execution_count": 495,
      "metadata": {
        "id": "d7N9_838rF0y"
      },
      "outputs": [],
      "source": [
        "dfanime = dfanime.dropna()                                     #dropping null value entries\n",
        "dfanime = dfanime.drop([\"img_url\", \"link\"], axis=1)            #dropping unwated columns"
      ]
    },
    {
      "cell_type": "code",
      "source": [
        "dfanime[\"Year\"]=0                                            #making new column as age of the user\n",
        "                                                             \n",
        "for i in dfanime.index:                                      #using date aired to calculate the yaer of release\n",
        "  for j in range(1955,2020):\n",
        "    if (str(j) in str(dfanime[\"aired\"][i]))==1 :\n",
        "      dfanime[\"Year\"][i]= j\n",
        "      break\n",
        "dfanime = dfanime.loc[~(dfanime['Year'] == 0)]              #dropping 0 value as 0 Age doesnt make sense"
      ],
      "metadata": {
        "id": "RrWIgjgBY1VU",
        "colab": {
          "base_uri": "https://localhost:8080/"
        },
        "outputId": "ca20320c-5e51-4b7e-c1b2-85c17c6f4090"
      },
      "execution_count": 496,
      "outputs": [
        {
          "output_type": "stream",
          "name": "stderr",
          "text": [
            "/usr/local/lib/python3.7/dist-packages/ipykernel_launcher.py:6: SettingWithCopyWarning: \n",
            "A value is trying to be set on a copy of a slice from a DataFrame\n",
            "\n",
            "See the caveats in the documentation: https://pandas.pydata.org/pandas-docs/stable/user_guide/indexing.html#returning-a-view-versus-a-copy\n",
            "  \n"
          ]
        }
      ]
    },
    {
      "cell_type": "code",
      "source": [
        "genrelist = []                                        \n",
        "for lists in dfanime['genre']:\n",
        "  lists = (lists.strip('[]')).split(', ')\n",
        "  for entry in lists:\n",
        "    if entry.strip(\"'\") not in genrelist:\n",
        "      genrelist.append(entry.strip(\"'\"))\n",
        "genrelist = genrelist[0:len(genrelist)-1]\n",
        "genrelist=sorted(genrelist)\n",
        "print(genrelist)"
      ],
      "metadata": {
        "id": "criSNkxdcHIq",
        "colab": {
          "base_uri": "https://localhost:8080/"
        },
        "outputId": "57b4e38c-f6ea-4b42-fd49-b4b765fefd14"
      },
      "execution_count": 497,
      "outputs": [
        {
          "output_type": "stream",
          "name": "stdout",
          "text": [
            "['Action', 'Adventure', 'Cars', 'Comedy', 'Dementia', 'Demons', 'Drama', 'Ecchi', 'Fantasy', 'Game', 'Harem', 'Historical', 'Horror', 'Josei', 'Kids', 'Magic', 'Martial Arts', 'Mecha', 'Military', 'Music', 'Mystery', 'Parody', 'Police', 'Psychological', 'Romance', 'Samurai', 'School', 'Sci-Fi', 'Seinen', 'Shoujo', 'Shoujo Ai', 'Shounen', 'Shounen Ai', 'Slice of Life', 'Space', 'Sports', 'Super Power', 'Supernatural', 'Thriller', 'Vampire']\n"
          ]
        }
      ]
    },
    {
      "cell_type": "code",
      "execution_count": 498,
      "metadata": {
        "id": "ERRvt4smujRV",
        "colab": {
          "base_uri": "https://localhost:8080/",
          "height": 713
        },
        "outputId": "d3505850-a931-4419-f0db-119483767993"
      },
      "outputs": [
        {
          "output_type": "stream",
          "name": "stderr",
          "text": [
            "/usr/local/lib/python3.7/dist-packages/pandas/core/frame.py:3645: SettingWithCopyWarning: \n",
            "A value is trying to be set on a copy of a slice from a DataFrame.\n",
            "Try using .loc[row_indexer,col_indexer] = value instead\n",
            "\n",
            "See the caveats in the documentation: https://pandas.pydata.org/pandas-docs/stable/user_guide/indexing.html#returning-a-view-versus-a-copy\n",
            "  self[col] = value\n",
            "/usr/local/lib/python3.7/dist-packages/ipykernel_launcher.py:5: SettingWithCopyWarning: \n",
            "A value is trying to be set on a copy of a slice from a DataFrame\n",
            "\n",
            "See the caveats in the documentation: https://pandas.pydata.org/pandas-docs/stable/user_guide/indexing.html#returning-a-view-versus-a-copy\n",
            "  \"\"\"\n"
          ]
        },
        {
          "output_type": "execute_result",
          "data": {
            "text/plain": [
              "       Action  Adventure  Cars  Comedy  Dementia  Demons  Drama  Ecchi  \\\n",
              "0           0          0     0       1         0       0      1      0   \n",
              "1           0          0     0       0         0       0      1      0   \n",
              "2           0          1     0       0         0       0      1      0   \n",
              "3           1          1     0       1         0       0      1      0   \n",
              "4           1          0     0       0         0       0      0      0   \n",
              "...       ...        ...   ...     ...       ...     ...    ...    ...   \n",
              "19306       0          1     0       1         0       0      0      0   \n",
              "19307       0          1     0       1         0       0      1      0   \n",
              "19308       0          0     0       0         0       0      0      0   \n",
              "19309       1          1     0       1         0       1      1      0   \n",
              "19310       0          0     0       0         0       0      1      0   \n",
              "\n",
              "       Fantasy  Game  ...  Shoujo Ai  Shounen  Shounen Ai  Slice of Life  \\\n",
              "0            0     0  ...          0        1           0              0   \n",
              "1            0     0  ...          0        1           0              0   \n",
              "2            1     0  ...          0        0           0              0   \n",
              "3            1     0  ...          0        1           0              0   \n",
              "4            0     0  ...          0        0           0              0   \n",
              "...        ...   ...  ...        ...      ...         ...            ...   \n",
              "19306        0     0  ...          0        0           0              0   \n",
              "19307        1     0  ...          0        0           0              0   \n",
              "19308        0     0  ...          0        0           0              0   \n",
              "19309        1     0  ...          0        1           0              0   \n",
              "19310        0     0  ...          0        0           0              0   \n",
              "\n",
              "       Space  Sports  Super Power  Supernatural  Thriller  Vampire  \n",
              "0          0       1            0             0         0        0  \n",
              "1          0       0            0             0         0        0  \n",
              "2          0       0            0             0         0        0  \n",
              "3          0       0            0             0         0        0  \n",
              "4          0       0            0             1         0        1  \n",
              "...      ...     ...          ...           ...       ...      ...  \n",
              "19306      0       0            0             0         0        0  \n",
              "19307      0       0            0             0         0        0  \n",
              "19308      0       0            0             1         0        0  \n",
              "19309      0       0            0             1         0        0  \n",
              "19310      1       0            0             0         0        0  \n",
              "\n",
              "[14915 rows x 40 columns]"
            ],
            "text/html": [
              "\n",
              "  <div id=\"df-ea333365-c1bb-4c6a-b516-00c521002e82\">\n",
              "    <div class=\"colab-df-container\">\n",
              "      <div>\n",
              "<style scoped>\n",
              "    .dataframe tbody tr th:only-of-type {\n",
              "        vertical-align: middle;\n",
              "    }\n",
              "\n",
              "    .dataframe tbody tr th {\n",
              "        vertical-align: top;\n",
              "    }\n",
              "\n",
              "    .dataframe thead th {\n",
              "        text-align: right;\n",
              "    }\n",
              "</style>\n",
              "<table border=\"1\" class=\"dataframe\">\n",
              "  <thead>\n",
              "    <tr style=\"text-align: right;\">\n",
              "      <th></th>\n",
              "      <th>Action</th>\n",
              "      <th>Adventure</th>\n",
              "      <th>Cars</th>\n",
              "      <th>Comedy</th>\n",
              "      <th>Dementia</th>\n",
              "      <th>Demons</th>\n",
              "      <th>Drama</th>\n",
              "      <th>Ecchi</th>\n",
              "      <th>Fantasy</th>\n",
              "      <th>Game</th>\n",
              "      <th>...</th>\n",
              "      <th>Shoujo Ai</th>\n",
              "      <th>Shounen</th>\n",
              "      <th>Shounen Ai</th>\n",
              "      <th>Slice of Life</th>\n",
              "      <th>Space</th>\n",
              "      <th>Sports</th>\n",
              "      <th>Super Power</th>\n",
              "      <th>Supernatural</th>\n",
              "      <th>Thriller</th>\n",
              "      <th>Vampire</th>\n",
              "    </tr>\n",
              "  </thead>\n",
              "  <tbody>\n",
              "    <tr>\n",
              "      <th>0</th>\n",
              "      <td>0</td>\n",
              "      <td>0</td>\n",
              "      <td>0</td>\n",
              "      <td>1</td>\n",
              "      <td>0</td>\n",
              "      <td>0</td>\n",
              "      <td>1</td>\n",
              "      <td>0</td>\n",
              "      <td>0</td>\n",
              "      <td>0</td>\n",
              "      <td>...</td>\n",
              "      <td>0</td>\n",
              "      <td>1</td>\n",
              "      <td>0</td>\n",
              "      <td>0</td>\n",
              "      <td>0</td>\n",
              "      <td>1</td>\n",
              "      <td>0</td>\n",
              "      <td>0</td>\n",
              "      <td>0</td>\n",
              "      <td>0</td>\n",
              "    </tr>\n",
              "    <tr>\n",
              "      <th>1</th>\n",
              "      <td>0</td>\n",
              "      <td>0</td>\n",
              "      <td>0</td>\n",
              "      <td>0</td>\n",
              "      <td>0</td>\n",
              "      <td>0</td>\n",
              "      <td>1</td>\n",
              "      <td>0</td>\n",
              "      <td>0</td>\n",
              "      <td>0</td>\n",
              "      <td>...</td>\n",
              "      <td>0</td>\n",
              "      <td>1</td>\n",
              "      <td>0</td>\n",
              "      <td>0</td>\n",
              "      <td>0</td>\n",
              "      <td>0</td>\n",
              "      <td>0</td>\n",
              "      <td>0</td>\n",
              "      <td>0</td>\n",
              "      <td>0</td>\n",
              "    </tr>\n",
              "    <tr>\n",
              "      <th>2</th>\n",
              "      <td>0</td>\n",
              "      <td>1</td>\n",
              "      <td>0</td>\n",
              "      <td>0</td>\n",
              "      <td>0</td>\n",
              "      <td>0</td>\n",
              "      <td>1</td>\n",
              "      <td>0</td>\n",
              "      <td>1</td>\n",
              "      <td>0</td>\n",
              "      <td>...</td>\n",
              "      <td>0</td>\n",
              "      <td>0</td>\n",
              "      <td>0</td>\n",
              "      <td>0</td>\n",
              "      <td>0</td>\n",
              "      <td>0</td>\n",
              "      <td>0</td>\n",
              "      <td>0</td>\n",
              "      <td>0</td>\n",
              "      <td>0</td>\n",
              "    </tr>\n",
              "    <tr>\n",
              "      <th>3</th>\n",
              "      <td>1</td>\n",
              "      <td>1</td>\n",
              "      <td>0</td>\n",
              "      <td>1</td>\n",
              "      <td>0</td>\n",
              "      <td>0</td>\n",
              "      <td>1</td>\n",
              "      <td>0</td>\n",
              "      <td>1</td>\n",
              "      <td>0</td>\n",
              "      <td>...</td>\n",
              "      <td>0</td>\n",
              "      <td>1</td>\n",
              "      <td>0</td>\n",
              "      <td>0</td>\n",
              "      <td>0</td>\n",
              "      <td>0</td>\n",
              "      <td>0</td>\n",
              "      <td>0</td>\n",
              "      <td>0</td>\n",
              "      <td>0</td>\n",
              "    </tr>\n",
              "    <tr>\n",
              "      <th>4</th>\n",
              "      <td>1</td>\n",
              "      <td>0</td>\n",
              "      <td>0</td>\n",
              "      <td>0</td>\n",
              "      <td>0</td>\n",
              "      <td>0</td>\n",
              "      <td>0</td>\n",
              "      <td>0</td>\n",
              "      <td>0</td>\n",
              "      <td>0</td>\n",
              "      <td>...</td>\n",
              "      <td>0</td>\n",
              "      <td>0</td>\n",
              "      <td>0</td>\n",
              "      <td>0</td>\n",
              "      <td>0</td>\n",
              "      <td>0</td>\n",
              "      <td>0</td>\n",
              "      <td>1</td>\n",
              "      <td>0</td>\n",
              "      <td>1</td>\n",
              "    </tr>\n",
              "    <tr>\n",
              "      <th>...</th>\n",
              "      <td>...</td>\n",
              "      <td>...</td>\n",
              "      <td>...</td>\n",
              "      <td>...</td>\n",
              "      <td>...</td>\n",
              "      <td>...</td>\n",
              "      <td>...</td>\n",
              "      <td>...</td>\n",
              "      <td>...</td>\n",
              "      <td>...</td>\n",
              "      <td>...</td>\n",
              "      <td>...</td>\n",
              "      <td>...</td>\n",
              "      <td>...</td>\n",
              "      <td>...</td>\n",
              "      <td>...</td>\n",
              "      <td>...</td>\n",
              "      <td>...</td>\n",
              "      <td>...</td>\n",
              "      <td>...</td>\n",
              "      <td>...</td>\n",
              "    </tr>\n",
              "    <tr>\n",
              "      <th>19306</th>\n",
              "      <td>0</td>\n",
              "      <td>1</td>\n",
              "      <td>0</td>\n",
              "      <td>1</td>\n",
              "      <td>0</td>\n",
              "      <td>0</td>\n",
              "      <td>0</td>\n",
              "      <td>0</td>\n",
              "      <td>0</td>\n",
              "      <td>0</td>\n",
              "      <td>...</td>\n",
              "      <td>0</td>\n",
              "      <td>0</td>\n",
              "      <td>0</td>\n",
              "      <td>0</td>\n",
              "      <td>0</td>\n",
              "      <td>0</td>\n",
              "      <td>0</td>\n",
              "      <td>0</td>\n",
              "      <td>0</td>\n",
              "      <td>0</td>\n",
              "    </tr>\n",
              "    <tr>\n",
              "      <th>19307</th>\n",
              "      <td>0</td>\n",
              "      <td>1</td>\n",
              "      <td>0</td>\n",
              "      <td>1</td>\n",
              "      <td>0</td>\n",
              "      <td>0</td>\n",
              "      <td>1</td>\n",
              "      <td>0</td>\n",
              "      <td>1</td>\n",
              "      <td>0</td>\n",
              "      <td>...</td>\n",
              "      <td>0</td>\n",
              "      <td>0</td>\n",
              "      <td>0</td>\n",
              "      <td>0</td>\n",
              "      <td>0</td>\n",
              "      <td>0</td>\n",
              "      <td>0</td>\n",
              "      <td>0</td>\n",
              "      <td>0</td>\n",
              "      <td>0</td>\n",
              "    </tr>\n",
              "    <tr>\n",
              "      <th>19308</th>\n",
              "      <td>0</td>\n",
              "      <td>0</td>\n",
              "      <td>0</td>\n",
              "      <td>0</td>\n",
              "      <td>0</td>\n",
              "      <td>0</td>\n",
              "      <td>0</td>\n",
              "      <td>0</td>\n",
              "      <td>0</td>\n",
              "      <td>0</td>\n",
              "      <td>...</td>\n",
              "      <td>0</td>\n",
              "      <td>0</td>\n",
              "      <td>0</td>\n",
              "      <td>0</td>\n",
              "      <td>0</td>\n",
              "      <td>0</td>\n",
              "      <td>0</td>\n",
              "      <td>1</td>\n",
              "      <td>0</td>\n",
              "      <td>0</td>\n",
              "    </tr>\n",
              "    <tr>\n",
              "      <th>19309</th>\n",
              "      <td>1</td>\n",
              "      <td>1</td>\n",
              "      <td>0</td>\n",
              "      <td>1</td>\n",
              "      <td>0</td>\n",
              "      <td>1</td>\n",
              "      <td>1</td>\n",
              "      <td>0</td>\n",
              "      <td>1</td>\n",
              "      <td>0</td>\n",
              "      <td>...</td>\n",
              "      <td>0</td>\n",
              "      <td>1</td>\n",
              "      <td>0</td>\n",
              "      <td>0</td>\n",
              "      <td>0</td>\n",
              "      <td>0</td>\n",
              "      <td>0</td>\n",
              "      <td>1</td>\n",
              "      <td>0</td>\n",
              "      <td>0</td>\n",
              "    </tr>\n",
              "    <tr>\n",
              "      <th>19310</th>\n",
              "      <td>0</td>\n",
              "      <td>0</td>\n",
              "      <td>0</td>\n",
              "      <td>0</td>\n",
              "      <td>0</td>\n",
              "      <td>0</td>\n",
              "      <td>1</td>\n",
              "      <td>0</td>\n",
              "      <td>0</td>\n",
              "      <td>0</td>\n",
              "      <td>...</td>\n",
              "      <td>0</td>\n",
              "      <td>0</td>\n",
              "      <td>0</td>\n",
              "      <td>0</td>\n",
              "      <td>1</td>\n",
              "      <td>0</td>\n",
              "      <td>0</td>\n",
              "      <td>0</td>\n",
              "      <td>0</td>\n",
              "      <td>0</td>\n",
              "    </tr>\n",
              "  </tbody>\n",
              "</table>\n",
              "<p>14915 rows × 40 columns</p>\n",
              "</div>\n",
              "      <button class=\"colab-df-convert\" onclick=\"convertToInteractive('df-ea333365-c1bb-4c6a-b516-00c521002e82')\"\n",
              "              title=\"Convert this dataframe to an interactive table.\"\n",
              "              style=\"display:none;\">\n",
              "        \n",
              "  <svg xmlns=\"http://www.w3.org/2000/svg\" height=\"24px\"viewBox=\"0 0 24 24\"\n",
              "       width=\"24px\">\n",
              "    <path d=\"M0 0h24v24H0V0z\" fill=\"none\"/>\n",
              "    <path d=\"M18.56 5.44l.94 2.06.94-2.06 2.06-.94-2.06-.94-.94-2.06-.94 2.06-2.06.94zm-11 1L8.5 8.5l.94-2.06 2.06-.94-2.06-.94L8.5 2.5l-.94 2.06-2.06.94zm10 10l.94 2.06.94-2.06 2.06-.94-2.06-.94-.94-2.06-.94 2.06-2.06.94z\"/><path d=\"M17.41 7.96l-1.37-1.37c-.4-.4-.92-.59-1.43-.59-.52 0-1.04.2-1.43.59L10.3 9.45l-7.72 7.72c-.78.78-.78 2.05 0 2.83L4 21.41c.39.39.9.59 1.41.59.51 0 1.02-.2 1.41-.59l7.78-7.78 2.81-2.81c.8-.78.8-2.07 0-2.86zM5.41 20L4 18.59l7.72-7.72 1.47 1.35L5.41 20z\"/>\n",
              "  </svg>\n",
              "      </button>\n",
              "      \n",
              "  <style>\n",
              "    .colab-df-container {\n",
              "      display:flex;\n",
              "      flex-wrap:wrap;\n",
              "      gap: 12px;\n",
              "    }\n",
              "\n",
              "    .colab-df-convert {\n",
              "      background-color: #E8F0FE;\n",
              "      border: none;\n",
              "      border-radius: 50%;\n",
              "      cursor: pointer;\n",
              "      display: none;\n",
              "      fill: #1967D2;\n",
              "      height: 32px;\n",
              "      padding: 0 0 0 0;\n",
              "      width: 32px;\n",
              "    }\n",
              "\n",
              "    .colab-df-convert:hover {\n",
              "      background-color: #E2EBFA;\n",
              "      box-shadow: 0px 1px 2px rgba(60, 64, 67, 0.3), 0px 1px 3px 1px rgba(60, 64, 67, 0.15);\n",
              "      fill: #174EA6;\n",
              "    }\n",
              "\n",
              "    [theme=dark] .colab-df-convert {\n",
              "      background-color: #3B4455;\n",
              "      fill: #D2E3FC;\n",
              "    }\n",
              "\n",
              "    [theme=dark] .colab-df-convert:hover {\n",
              "      background-color: #434B5C;\n",
              "      box-shadow: 0px 1px 3px 1px rgba(0, 0, 0, 0.15);\n",
              "      filter: drop-shadow(0px 1px 2px rgba(0, 0, 0, 0.3));\n",
              "      fill: #FFFFFF;\n",
              "    }\n",
              "  </style>\n",
              "\n",
              "      <script>\n",
              "        const buttonEl =\n",
              "          document.querySelector('#df-ea333365-c1bb-4c6a-b516-00c521002e82 button.colab-df-convert');\n",
              "        buttonEl.style.display =\n",
              "          google.colab.kernel.accessAllowed ? 'block' : 'none';\n",
              "\n",
              "        async function convertToInteractive(key) {\n",
              "          const element = document.querySelector('#df-ea333365-c1bb-4c6a-b516-00c521002e82');\n",
              "          const dataTable =\n",
              "            await google.colab.kernel.invokeFunction('convertToInteractive',\n",
              "                                                     [key], {});\n",
              "          if (!dataTable) return;\n",
              "\n",
              "          const docLinkHtml = 'Like what you see? Visit the ' +\n",
              "            '<a target=\"_blank\" href=https://colab.research.google.com/notebooks/data_table.ipynb>data table notebook</a>'\n",
              "            + ' to learn more about interactive tables.';\n",
              "          element.innerHTML = '';\n",
              "          dataTable['output_type'] = 'display_data';\n",
              "          await google.colab.output.renderOutput(dataTable, element);\n",
              "          const docLink = document.createElement('div');\n",
              "          docLink.innerHTML = docLinkHtml;\n",
              "          element.appendChild(docLink);\n",
              "        }\n",
              "      </script>\n",
              "    </div>\n",
              "  </div>\n",
              "  "
            ]
          },
          "metadata": {},
          "execution_count": 498
        }
      ],
      "source": [
        "dfanime[genrelist] = 0\n",
        "for genres in genrelist:\n",
        "  for i in dfanime.index:\n",
        "    if genres in dfanime['genre'][i]:\n",
        "      dfanime[genres][i] = 1\n",
        "dfanime[genrelist]"
      ]
    },
    {
      "cell_type": "code",
      "source": [
        "dfanime.info()"
      ],
      "metadata": {
        "colab": {
          "base_uri": "https://localhost:8080/"
        },
        "id": "p84pP_5T-msZ",
        "outputId": "148869c4-ffa1-4607-cf30-25fea752e0f4"
      },
      "execution_count": 499,
      "outputs": [
        {
          "output_type": "stream",
          "name": "stdout",
          "text": [
            "<class 'pandas.core.frame.DataFrame'>\n",
            "Int64Index: 14915 entries, 0 to 19310\n",
            "Data columns (total 51 columns):\n",
            " #   Column         Non-Null Count  Dtype  \n",
            "---  ------         --------------  -----  \n",
            " 0   uid            14915 non-null  int64  \n",
            " 1   title          14915 non-null  object \n",
            " 2   synopsis       14915 non-null  object \n",
            " 3   genre          14915 non-null  object \n",
            " 4   aired          14915 non-null  object \n",
            " 5   episodes       14915 non-null  float64\n",
            " 6   members        14915 non-null  int64  \n",
            " 7   popularity     14915 non-null  int64  \n",
            " 8   ranked         14915 non-null  float64\n",
            " 9   score          14915 non-null  float64\n",
            " 10  Year           14915 non-null  int64  \n",
            " 11  Action         14915 non-null  int64  \n",
            " 12  Adventure      14915 non-null  int64  \n",
            " 13  Cars           14915 non-null  int64  \n",
            " 14  Comedy         14915 non-null  int64  \n",
            " 15  Dementia       14915 non-null  int64  \n",
            " 16  Demons         14915 non-null  int64  \n",
            " 17  Drama          14915 non-null  int64  \n",
            " 18  Ecchi          14915 non-null  int64  \n",
            " 19  Fantasy        14915 non-null  int64  \n",
            " 20  Game           14915 non-null  int64  \n",
            " 21  Harem          14915 non-null  int64  \n",
            " 22  Historical     14915 non-null  int64  \n",
            " 23  Horror         14915 non-null  int64  \n",
            " 24  Josei          14915 non-null  int64  \n",
            " 25  Kids           14915 non-null  int64  \n",
            " 26  Magic          14915 non-null  int64  \n",
            " 27  Martial Arts   14915 non-null  int64  \n",
            " 28  Mecha          14915 non-null  int64  \n",
            " 29  Military       14915 non-null  int64  \n",
            " 30  Music          14915 non-null  int64  \n",
            " 31  Mystery        14915 non-null  int64  \n",
            " 32  Parody         14915 non-null  int64  \n",
            " 33  Police         14915 non-null  int64  \n",
            " 34  Psychological  14915 non-null  int64  \n",
            " 35  Romance        14915 non-null  int64  \n",
            " 36  Samurai        14915 non-null  int64  \n",
            " 37  School         14915 non-null  int64  \n",
            " 38  Sci-Fi         14915 non-null  int64  \n",
            " 39  Seinen         14915 non-null  int64  \n",
            " 40  Shoujo         14915 non-null  int64  \n",
            " 41  Shoujo Ai      14915 non-null  int64  \n",
            " 42  Shounen        14915 non-null  int64  \n",
            " 43  Shounen Ai     14915 non-null  int64  \n",
            " 44  Slice of Life  14915 non-null  int64  \n",
            " 45  Space          14915 non-null  int64  \n",
            " 46  Sports         14915 non-null  int64  \n",
            " 47  Super Power    14915 non-null  int64  \n",
            " 48  Supernatural   14915 non-null  int64  \n",
            " 49  Thriller       14915 non-null  int64  \n",
            " 50  Vampire        14915 non-null  int64  \n",
            "dtypes: float64(3), int64(44), object(4)\n",
            "memory usage: 6.4+ MB\n"
          ]
        }
      ]
    },
    {
      "cell_type": "code",
      "source": [
        "dfanime               #final animes datased after cleaning"
      ],
      "metadata": {
        "id": "7K-FmgqHdTz6",
        "colab": {
          "base_uri": "https://localhost:8080/",
          "height": 1000
        },
        "outputId": "d45aae1d-8b34-493f-8bd6-ae43a9c21008"
      },
      "execution_count": 500,
      "outputs": [
        {
          "output_type": "execute_result",
          "data": {
            "text/plain": [
              "         uid                                        title  \\\n",
              "0      28891                      Haikyuu!! Second Season   \n",
              "1      23273                      Shigatsu wa Kimi no Uso   \n",
              "2      34599                                Made in Abyss   \n",
              "3       5114             Fullmetal Alchemist: Brotherhood   \n",
              "4      31758             Kizumonogatari III: Reiketsu-hen   \n",
              "...      ...                                          ...   \n",
              "19306  32979                                Flip Flappers   \n",
              "19307    123                                Fushigi Yuugi   \n",
              "19308   1281                             Gakkou no Kaidan   \n",
              "19309    450  InuYasha Movie 2: Kagami no Naka no Mugenjo   \n",
              "19310     87     Mobile Suit Gundam: Char's Counterattack   \n",
              "\n",
              "                                                synopsis  \\\n",
              "0      Following their participation at the Inter-Hig...   \n",
              "1      Music accompanies the path of the human metron...   \n",
              "2      The Abyss—a gaping chasm stretching down into ...   \n",
              "3      \"In order for something to be obtained, someth...   \n",
              "4      After helping revive the legendary vampire Kis...   \n",
              "...                                                  ...   \n",
              "19306  Cocona is an average middle schooler living wi...   \n",
              "19307  While visiting the National Library, junior-hi...   \n",
              "19308  Years ago, all of the ghosts in a haunted scho...   \n",
              "19309  Inuyasha and company have finally destroyed Na...   \n",
              "19310  The year is Universal Century 0093. Char Aznab...   \n",
              "\n",
              "                                                   genre  \\\n",
              "0      ['Comedy', 'Sports', 'Drama', 'School', 'Shoun...   \n",
              "1      ['Drama', 'Music', 'Romance', 'School', 'Shoun...   \n",
              "2      ['Sci-Fi', 'Adventure', 'Mystery', 'Drama', 'F...   \n",
              "3      ['Action', 'Military', 'Adventure', 'Comedy', ...   \n",
              "4       ['Action', 'Mystery', 'Supernatural', 'Vampire']   \n",
              "...                                                  ...   \n",
              "19306         ['Sci-Fi', 'Adventure', 'Comedy', 'Magic']   \n",
              "19307  ['Adventure', 'Fantasy', 'Magic', 'Martial Art...   \n",
              "19308              ['Mystery', 'Horror', 'Supernatural']   \n",
              "19309  ['Action', 'Adventure', 'Comedy', 'Historical'...   \n",
              "19310  ['Military', 'Sci-Fi', 'Space', 'Drama', 'Mecha']   \n",
              "\n",
              "                              aired  episodes  members  popularity  ranked  \\\n",
              "0       Oct 4, 2015 to Mar 27, 2016      25.0   489888         141    25.0   \n",
              "1      Oct 10, 2014 to Mar 20, 2015      22.0   995473          28    24.0   \n",
              "2       Jul 7, 2017 to Sep 29, 2017      13.0   581663          98    23.0   \n",
              "3        Apr 5, 2009 to Jul 4, 2010      64.0  1615084           4     1.0   \n",
              "4                       Jan 6, 2017       1.0   214621         502    22.0   \n",
              "...                             ...       ...      ...         ...     ...   \n",
              "19306   Oct 6, 2016 to Dec 29, 2016      13.0   134252         843  1070.0   \n",
              "19307   Apr 6, 1995 to Mar 28, 1996      52.0    84407        1292  1071.0   \n",
              "19308  Oct 22, 2000 to Mar 25, 2001      19.0    83093        1314  1073.0   \n",
              "19309                  Dec 21, 2002       1.0    71989        1469  1077.0   \n",
              "19310                  Mar 12, 1988       1.0    29248        2604  1081.0   \n",
              "\n",
              "       score  ...  Shoujo Ai  Shounen  Shounen Ai  Slice of Life  Space  \\\n",
              "0       8.82  ...          0        1           0              0      0   \n",
              "1       8.83  ...          0        1           0              0      0   \n",
              "2       8.83  ...          0        0           0              0      0   \n",
              "3       9.23  ...          0        1           0              0      0   \n",
              "4       8.83  ...          0        0           0              0      0   \n",
              "...      ...  ...        ...      ...         ...            ...    ...   \n",
              "19306   7.73  ...          0        0           0              0      0   \n",
              "19307   7.73  ...          0        0           0              0      0   \n",
              "19308   7.73  ...          0        0           0              0      0   \n",
              "19309   7.73  ...          0        1           0              0      0   \n",
              "19310   7.73  ...          0        0           0              0      1   \n",
              "\n",
              "       Sports  Super Power  Supernatural  Thriller  Vampire  \n",
              "0           1            0             0         0        0  \n",
              "1           0            0             0         0        0  \n",
              "2           0            0             0         0        0  \n",
              "3           0            0             0         0        0  \n",
              "4           0            0             1         0        1  \n",
              "...       ...          ...           ...       ...      ...  \n",
              "19306       0            0             0         0        0  \n",
              "19307       0            0             0         0        0  \n",
              "19308       0            0             1         0        0  \n",
              "19309       0            0             1         0        0  \n",
              "19310       0            0             0         0        0  \n",
              "\n",
              "[14915 rows x 51 columns]"
            ],
            "text/html": [
              "\n",
              "  <div id=\"df-83d3d759-cbc9-4e95-9700-f4d44686c01f\">\n",
              "    <div class=\"colab-df-container\">\n",
              "      <div>\n",
              "<style scoped>\n",
              "    .dataframe tbody tr th:only-of-type {\n",
              "        vertical-align: middle;\n",
              "    }\n",
              "\n",
              "    .dataframe tbody tr th {\n",
              "        vertical-align: top;\n",
              "    }\n",
              "\n",
              "    .dataframe thead th {\n",
              "        text-align: right;\n",
              "    }\n",
              "</style>\n",
              "<table border=\"1\" class=\"dataframe\">\n",
              "  <thead>\n",
              "    <tr style=\"text-align: right;\">\n",
              "      <th></th>\n",
              "      <th>uid</th>\n",
              "      <th>title</th>\n",
              "      <th>synopsis</th>\n",
              "      <th>genre</th>\n",
              "      <th>aired</th>\n",
              "      <th>episodes</th>\n",
              "      <th>members</th>\n",
              "      <th>popularity</th>\n",
              "      <th>ranked</th>\n",
              "      <th>score</th>\n",
              "      <th>...</th>\n",
              "      <th>Shoujo Ai</th>\n",
              "      <th>Shounen</th>\n",
              "      <th>Shounen Ai</th>\n",
              "      <th>Slice of Life</th>\n",
              "      <th>Space</th>\n",
              "      <th>Sports</th>\n",
              "      <th>Super Power</th>\n",
              "      <th>Supernatural</th>\n",
              "      <th>Thriller</th>\n",
              "      <th>Vampire</th>\n",
              "    </tr>\n",
              "  </thead>\n",
              "  <tbody>\n",
              "    <tr>\n",
              "      <th>0</th>\n",
              "      <td>28891</td>\n",
              "      <td>Haikyuu!! Second Season</td>\n",
              "      <td>Following their participation at the Inter-Hig...</td>\n",
              "      <td>['Comedy', 'Sports', 'Drama', 'School', 'Shoun...</td>\n",
              "      <td>Oct 4, 2015 to Mar 27, 2016</td>\n",
              "      <td>25.0</td>\n",
              "      <td>489888</td>\n",
              "      <td>141</td>\n",
              "      <td>25.0</td>\n",
              "      <td>8.82</td>\n",
              "      <td>...</td>\n",
              "      <td>0</td>\n",
              "      <td>1</td>\n",
              "      <td>0</td>\n",
              "      <td>0</td>\n",
              "      <td>0</td>\n",
              "      <td>1</td>\n",
              "      <td>0</td>\n",
              "      <td>0</td>\n",
              "      <td>0</td>\n",
              "      <td>0</td>\n",
              "    </tr>\n",
              "    <tr>\n",
              "      <th>1</th>\n",
              "      <td>23273</td>\n",
              "      <td>Shigatsu wa Kimi no Uso</td>\n",
              "      <td>Music accompanies the path of the human metron...</td>\n",
              "      <td>['Drama', 'Music', 'Romance', 'School', 'Shoun...</td>\n",
              "      <td>Oct 10, 2014 to Mar 20, 2015</td>\n",
              "      <td>22.0</td>\n",
              "      <td>995473</td>\n",
              "      <td>28</td>\n",
              "      <td>24.0</td>\n",
              "      <td>8.83</td>\n",
              "      <td>...</td>\n",
              "      <td>0</td>\n",
              "      <td>1</td>\n",
              "      <td>0</td>\n",
              "      <td>0</td>\n",
              "      <td>0</td>\n",
              "      <td>0</td>\n",
              "      <td>0</td>\n",
              "      <td>0</td>\n",
              "      <td>0</td>\n",
              "      <td>0</td>\n",
              "    </tr>\n",
              "    <tr>\n",
              "      <th>2</th>\n",
              "      <td>34599</td>\n",
              "      <td>Made in Abyss</td>\n",
              "      <td>The Abyss—a gaping chasm stretching down into ...</td>\n",
              "      <td>['Sci-Fi', 'Adventure', 'Mystery', 'Drama', 'F...</td>\n",
              "      <td>Jul 7, 2017 to Sep 29, 2017</td>\n",
              "      <td>13.0</td>\n",
              "      <td>581663</td>\n",
              "      <td>98</td>\n",
              "      <td>23.0</td>\n",
              "      <td>8.83</td>\n",
              "      <td>...</td>\n",
              "      <td>0</td>\n",
              "      <td>0</td>\n",
              "      <td>0</td>\n",
              "      <td>0</td>\n",
              "      <td>0</td>\n",
              "      <td>0</td>\n",
              "      <td>0</td>\n",
              "      <td>0</td>\n",
              "      <td>0</td>\n",
              "      <td>0</td>\n",
              "    </tr>\n",
              "    <tr>\n",
              "      <th>3</th>\n",
              "      <td>5114</td>\n",
              "      <td>Fullmetal Alchemist: Brotherhood</td>\n",
              "      <td>\"In order for something to be obtained, someth...</td>\n",
              "      <td>['Action', 'Military', 'Adventure', 'Comedy', ...</td>\n",
              "      <td>Apr 5, 2009 to Jul 4, 2010</td>\n",
              "      <td>64.0</td>\n",
              "      <td>1615084</td>\n",
              "      <td>4</td>\n",
              "      <td>1.0</td>\n",
              "      <td>9.23</td>\n",
              "      <td>...</td>\n",
              "      <td>0</td>\n",
              "      <td>1</td>\n",
              "      <td>0</td>\n",
              "      <td>0</td>\n",
              "      <td>0</td>\n",
              "      <td>0</td>\n",
              "      <td>0</td>\n",
              "      <td>0</td>\n",
              "      <td>0</td>\n",
              "      <td>0</td>\n",
              "    </tr>\n",
              "    <tr>\n",
              "      <th>4</th>\n",
              "      <td>31758</td>\n",
              "      <td>Kizumonogatari III: Reiketsu-hen</td>\n",
              "      <td>After helping revive the legendary vampire Kis...</td>\n",
              "      <td>['Action', 'Mystery', 'Supernatural', 'Vampire']</td>\n",
              "      <td>Jan 6, 2017</td>\n",
              "      <td>1.0</td>\n",
              "      <td>214621</td>\n",
              "      <td>502</td>\n",
              "      <td>22.0</td>\n",
              "      <td>8.83</td>\n",
              "      <td>...</td>\n",
              "      <td>0</td>\n",
              "      <td>0</td>\n",
              "      <td>0</td>\n",
              "      <td>0</td>\n",
              "      <td>0</td>\n",
              "      <td>0</td>\n",
              "      <td>0</td>\n",
              "      <td>1</td>\n",
              "      <td>0</td>\n",
              "      <td>1</td>\n",
              "    </tr>\n",
              "    <tr>\n",
              "      <th>...</th>\n",
              "      <td>...</td>\n",
              "      <td>...</td>\n",
              "      <td>...</td>\n",
              "      <td>...</td>\n",
              "      <td>...</td>\n",
              "      <td>...</td>\n",
              "      <td>...</td>\n",
              "      <td>...</td>\n",
              "      <td>...</td>\n",
              "      <td>...</td>\n",
              "      <td>...</td>\n",
              "      <td>...</td>\n",
              "      <td>...</td>\n",
              "      <td>...</td>\n",
              "      <td>...</td>\n",
              "      <td>...</td>\n",
              "      <td>...</td>\n",
              "      <td>...</td>\n",
              "      <td>...</td>\n",
              "      <td>...</td>\n",
              "      <td>...</td>\n",
              "    </tr>\n",
              "    <tr>\n",
              "      <th>19306</th>\n",
              "      <td>32979</td>\n",
              "      <td>Flip Flappers</td>\n",
              "      <td>Cocona is an average middle schooler living wi...</td>\n",
              "      <td>['Sci-Fi', 'Adventure', 'Comedy', 'Magic']</td>\n",
              "      <td>Oct 6, 2016 to Dec 29, 2016</td>\n",
              "      <td>13.0</td>\n",
              "      <td>134252</td>\n",
              "      <td>843</td>\n",
              "      <td>1070.0</td>\n",
              "      <td>7.73</td>\n",
              "      <td>...</td>\n",
              "      <td>0</td>\n",
              "      <td>0</td>\n",
              "      <td>0</td>\n",
              "      <td>0</td>\n",
              "      <td>0</td>\n",
              "      <td>0</td>\n",
              "      <td>0</td>\n",
              "      <td>0</td>\n",
              "      <td>0</td>\n",
              "      <td>0</td>\n",
              "    </tr>\n",
              "    <tr>\n",
              "      <th>19307</th>\n",
              "      <td>123</td>\n",
              "      <td>Fushigi Yuugi</td>\n",
              "      <td>While visiting the National Library, junior-hi...</td>\n",
              "      <td>['Adventure', 'Fantasy', 'Magic', 'Martial Art...</td>\n",
              "      <td>Apr 6, 1995 to Mar 28, 1996</td>\n",
              "      <td>52.0</td>\n",
              "      <td>84407</td>\n",
              "      <td>1292</td>\n",
              "      <td>1071.0</td>\n",
              "      <td>7.73</td>\n",
              "      <td>...</td>\n",
              "      <td>0</td>\n",
              "      <td>0</td>\n",
              "      <td>0</td>\n",
              "      <td>0</td>\n",
              "      <td>0</td>\n",
              "      <td>0</td>\n",
              "      <td>0</td>\n",
              "      <td>0</td>\n",
              "      <td>0</td>\n",
              "      <td>0</td>\n",
              "    </tr>\n",
              "    <tr>\n",
              "      <th>19308</th>\n",
              "      <td>1281</td>\n",
              "      <td>Gakkou no Kaidan</td>\n",
              "      <td>Years ago, all of the ghosts in a haunted scho...</td>\n",
              "      <td>['Mystery', 'Horror', 'Supernatural']</td>\n",
              "      <td>Oct 22, 2000 to Mar 25, 2001</td>\n",
              "      <td>19.0</td>\n",
              "      <td>83093</td>\n",
              "      <td>1314</td>\n",
              "      <td>1073.0</td>\n",
              "      <td>7.73</td>\n",
              "      <td>...</td>\n",
              "      <td>0</td>\n",
              "      <td>0</td>\n",
              "      <td>0</td>\n",
              "      <td>0</td>\n",
              "      <td>0</td>\n",
              "      <td>0</td>\n",
              "      <td>0</td>\n",
              "      <td>1</td>\n",
              "      <td>0</td>\n",
              "      <td>0</td>\n",
              "    </tr>\n",
              "    <tr>\n",
              "      <th>19309</th>\n",
              "      <td>450</td>\n",
              "      <td>InuYasha Movie 2: Kagami no Naka no Mugenjo</td>\n",
              "      <td>Inuyasha and company have finally destroyed Na...</td>\n",
              "      <td>['Action', 'Adventure', 'Comedy', 'Historical'...</td>\n",
              "      <td>Dec 21, 2002</td>\n",
              "      <td>1.0</td>\n",
              "      <td>71989</td>\n",
              "      <td>1469</td>\n",
              "      <td>1077.0</td>\n",
              "      <td>7.73</td>\n",
              "      <td>...</td>\n",
              "      <td>0</td>\n",
              "      <td>1</td>\n",
              "      <td>0</td>\n",
              "      <td>0</td>\n",
              "      <td>0</td>\n",
              "      <td>0</td>\n",
              "      <td>0</td>\n",
              "      <td>1</td>\n",
              "      <td>0</td>\n",
              "      <td>0</td>\n",
              "    </tr>\n",
              "    <tr>\n",
              "      <th>19310</th>\n",
              "      <td>87</td>\n",
              "      <td>Mobile Suit Gundam: Char's Counterattack</td>\n",
              "      <td>The year is Universal Century 0093. Char Aznab...</td>\n",
              "      <td>['Military', 'Sci-Fi', 'Space', 'Drama', 'Mecha']</td>\n",
              "      <td>Mar 12, 1988</td>\n",
              "      <td>1.0</td>\n",
              "      <td>29248</td>\n",
              "      <td>2604</td>\n",
              "      <td>1081.0</td>\n",
              "      <td>7.73</td>\n",
              "      <td>...</td>\n",
              "      <td>0</td>\n",
              "      <td>0</td>\n",
              "      <td>0</td>\n",
              "      <td>0</td>\n",
              "      <td>1</td>\n",
              "      <td>0</td>\n",
              "      <td>0</td>\n",
              "      <td>0</td>\n",
              "      <td>0</td>\n",
              "      <td>0</td>\n",
              "    </tr>\n",
              "  </tbody>\n",
              "</table>\n",
              "<p>14915 rows × 51 columns</p>\n",
              "</div>\n",
              "      <button class=\"colab-df-convert\" onclick=\"convertToInteractive('df-83d3d759-cbc9-4e95-9700-f4d44686c01f')\"\n",
              "              title=\"Convert this dataframe to an interactive table.\"\n",
              "              style=\"display:none;\">\n",
              "        \n",
              "  <svg xmlns=\"http://www.w3.org/2000/svg\" height=\"24px\"viewBox=\"0 0 24 24\"\n",
              "       width=\"24px\">\n",
              "    <path d=\"M0 0h24v24H0V0z\" fill=\"none\"/>\n",
              "    <path d=\"M18.56 5.44l.94 2.06.94-2.06 2.06-.94-2.06-.94-.94-2.06-.94 2.06-2.06.94zm-11 1L8.5 8.5l.94-2.06 2.06-.94-2.06-.94L8.5 2.5l-.94 2.06-2.06.94zm10 10l.94 2.06.94-2.06 2.06-.94-2.06-.94-.94-2.06-.94 2.06-2.06.94z\"/><path d=\"M17.41 7.96l-1.37-1.37c-.4-.4-.92-.59-1.43-.59-.52 0-1.04.2-1.43.59L10.3 9.45l-7.72 7.72c-.78.78-.78 2.05 0 2.83L4 21.41c.39.39.9.59 1.41.59.51 0 1.02-.2 1.41-.59l7.78-7.78 2.81-2.81c.8-.78.8-2.07 0-2.86zM5.41 20L4 18.59l7.72-7.72 1.47 1.35L5.41 20z\"/>\n",
              "  </svg>\n",
              "      </button>\n",
              "      \n",
              "  <style>\n",
              "    .colab-df-container {\n",
              "      display:flex;\n",
              "      flex-wrap:wrap;\n",
              "      gap: 12px;\n",
              "    }\n",
              "\n",
              "    .colab-df-convert {\n",
              "      background-color: #E8F0FE;\n",
              "      border: none;\n",
              "      border-radius: 50%;\n",
              "      cursor: pointer;\n",
              "      display: none;\n",
              "      fill: #1967D2;\n",
              "      height: 32px;\n",
              "      padding: 0 0 0 0;\n",
              "      width: 32px;\n",
              "    }\n",
              "\n",
              "    .colab-df-convert:hover {\n",
              "      background-color: #E2EBFA;\n",
              "      box-shadow: 0px 1px 2px rgba(60, 64, 67, 0.3), 0px 1px 3px 1px rgba(60, 64, 67, 0.15);\n",
              "      fill: #174EA6;\n",
              "    }\n",
              "\n",
              "    [theme=dark] .colab-df-convert {\n",
              "      background-color: #3B4455;\n",
              "      fill: #D2E3FC;\n",
              "    }\n",
              "\n",
              "    [theme=dark] .colab-df-convert:hover {\n",
              "      background-color: #434B5C;\n",
              "      box-shadow: 0px 1px 3px 1px rgba(0, 0, 0, 0.15);\n",
              "      filter: drop-shadow(0px 1px 2px rgba(0, 0, 0, 0.3));\n",
              "      fill: #FFFFFF;\n",
              "    }\n",
              "  </style>\n",
              "\n",
              "      <script>\n",
              "        const buttonEl =\n",
              "          document.querySelector('#df-83d3d759-cbc9-4e95-9700-f4d44686c01f button.colab-df-convert');\n",
              "        buttonEl.style.display =\n",
              "          google.colab.kernel.accessAllowed ? 'block' : 'none';\n",
              "\n",
              "        async function convertToInteractive(key) {\n",
              "          const element = document.querySelector('#df-83d3d759-cbc9-4e95-9700-f4d44686c01f');\n",
              "          const dataTable =\n",
              "            await google.colab.kernel.invokeFunction('convertToInteractive',\n",
              "                                                     [key], {});\n",
              "          if (!dataTable) return;\n",
              "\n",
              "          const docLinkHtml = 'Like what you see? Visit the ' +\n",
              "            '<a target=\"_blank\" href=https://colab.research.google.com/notebooks/data_table.ipynb>data table notebook</a>'\n",
              "            + ' to learn more about interactive tables.';\n",
              "          element.innerHTML = '';\n",
              "          dataTable['output_type'] = 'display_data';\n",
              "          await google.colab.output.renderOutput(dataTable, element);\n",
              "          const docLink = document.createElement('div');\n",
              "          docLink.innerHTML = docLinkHtml;\n",
              "          element.appendChild(docLink);\n",
              "        }\n",
              "      </script>\n",
              "    </div>\n",
              "  </div>\n",
              "  "
            ]
          },
          "metadata": {},
          "execution_count": 500
        }
      ]
    },
    {
      "cell_type": "code",
      "source": [
        "dfprofile = pd.read_csv('profiles.csv')                   #reading profile dataset\n",
        "dfprofile.info()"
      ],
      "metadata": {
        "id": "N_SAJktKccIr",
        "colab": {
          "base_uri": "https://localhost:8080/"
        },
        "outputId": "e1f5d7c6-f710-4c13-cbb9-e63dfb049739"
      },
      "execution_count": 501,
      "outputs": [
        {
          "output_type": "stream",
          "name": "stdout",
          "text": [
            "<class 'pandas.core.frame.DataFrame'>\n",
            "RangeIndex: 81727 entries, 0 to 81726\n",
            "Data columns (total 5 columns):\n",
            " #   Column           Non-Null Count  Dtype \n",
            "---  ------           --------------  ----- \n",
            " 0   profile          81727 non-null  object\n",
            " 1   gender           53856 non-null  object\n",
            " 2   birthday         46807 non-null  object\n",
            " 3   favorites_anime  81727 non-null  object\n",
            " 4   link             81727 non-null  object\n",
            "dtypes: object(5)\n",
            "memory usage: 3.1+ MB\n"
          ]
        }
      ]
    },
    {
      "cell_type": "code",
      "source": [
        "dfprofile"
      ],
      "metadata": {
        "colab": {
          "base_uri": "https://localhost:8080/",
          "height": 424
        },
        "id": "fpk_JcUv-3vF",
        "outputId": "7de0cb16-656b-4793-c716-7ae51ad45582"
      },
      "execution_count": 502,
      "outputs": [
        {
          "output_type": "execute_result",
          "data": {
            "text/plain": [
              "               profile  gender      birthday  \\\n",
              "0       DesolatePsyche    Male   Oct 2, 1994   \n",
              "1            baekbeans  Female  Nov 10, 2000   \n",
              "2                 skrn     NaN           NaN   \n",
              "3         edgewalker00    Male         Sep 5   \n",
              "4      aManOfCulture99    Male  Oct 30, 1999   \n",
              "...                ...     ...           ...   \n",
              "81722       lovelessxd  Female   Aug 6, 1992   \n",
              "81723  Shattered_Angel  Female   Sep 6, 1994   \n",
              "81724     FluffyWalrus    Male           NaN   \n",
              "81725            camco  Female        Sep 23   \n",
              "81726        nyja-chan  Female        Nov 13   \n",
              "\n",
              "                                         favorites_anime  \\\n",
              "0      ['33352', '25013', '5530', '33674', '1482', '2...   \n",
              "1      ['11061', '31964', '853', '20583', '918', '925...   \n",
              "2      ['918', '2904', '11741', '17074', '23273', '32...   \n",
              "3               ['5680', '849', '2904', '3588', '37349']   \n",
              "4      ['4181', '7791', '9617', '5680', '2167', '4382...   \n",
              "...                                                  ...   \n",
              "81722                                    ['853', '5114']   \n",
              "81723  ['150', '27', '1520', '121', '31452', '32995',...   \n",
              "81724                 ['121', '43', '237', '202', '205']   \n",
              "81725          ['199', '4224', '7054', '13601', '14713']   \n",
              "81726  ['39195', '38000', '440', '457', '34599', '225...   \n",
              "\n",
              "                                                  link  \n",
              "0       https://myanimelist.net/profile/DesolatePsyche  \n",
              "1            https://myanimelist.net/profile/baekbeans  \n",
              "2                 https://myanimelist.net/profile/skrn  \n",
              "3         https://myanimelist.net/profile/edgewalker00  \n",
              "4      https://myanimelist.net/profile/aManOfCulture99  \n",
              "...                                                ...  \n",
              "81722       https://myanimelist.net/profile/lovelessxd  \n",
              "81723  https://myanimelist.net/profile/Shattered_Angel  \n",
              "81724     https://myanimelist.net/profile/FluffyWalrus  \n",
              "81725            https://myanimelist.net/profile/camco  \n",
              "81726        https://myanimelist.net/profile/nyja-chan  \n",
              "\n",
              "[81727 rows x 5 columns]"
            ],
            "text/html": [
              "\n",
              "  <div id=\"df-a6dc8102-7a50-4c66-a528-19bd5b170f7c\">\n",
              "    <div class=\"colab-df-container\">\n",
              "      <div>\n",
              "<style scoped>\n",
              "    .dataframe tbody tr th:only-of-type {\n",
              "        vertical-align: middle;\n",
              "    }\n",
              "\n",
              "    .dataframe tbody tr th {\n",
              "        vertical-align: top;\n",
              "    }\n",
              "\n",
              "    .dataframe thead th {\n",
              "        text-align: right;\n",
              "    }\n",
              "</style>\n",
              "<table border=\"1\" class=\"dataframe\">\n",
              "  <thead>\n",
              "    <tr style=\"text-align: right;\">\n",
              "      <th></th>\n",
              "      <th>profile</th>\n",
              "      <th>gender</th>\n",
              "      <th>birthday</th>\n",
              "      <th>favorites_anime</th>\n",
              "      <th>link</th>\n",
              "    </tr>\n",
              "  </thead>\n",
              "  <tbody>\n",
              "    <tr>\n",
              "      <th>0</th>\n",
              "      <td>DesolatePsyche</td>\n",
              "      <td>Male</td>\n",
              "      <td>Oct 2, 1994</td>\n",
              "      <td>['33352', '25013', '5530', '33674', '1482', '2...</td>\n",
              "      <td>https://myanimelist.net/profile/DesolatePsyche</td>\n",
              "    </tr>\n",
              "    <tr>\n",
              "      <th>1</th>\n",
              "      <td>baekbeans</td>\n",
              "      <td>Female</td>\n",
              "      <td>Nov 10, 2000</td>\n",
              "      <td>['11061', '31964', '853', '20583', '918', '925...</td>\n",
              "      <td>https://myanimelist.net/profile/baekbeans</td>\n",
              "    </tr>\n",
              "    <tr>\n",
              "      <th>2</th>\n",
              "      <td>skrn</td>\n",
              "      <td>NaN</td>\n",
              "      <td>NaN</td>\n",
              "      <td>['918', '2904', '11741', '17074', '23273', '32...</td>\n",
              "      <td>https://myanimelist.net/profile/skrn</td>\n",
              "    </tr>\n",
              "    <tr>\n",
              "      <th>3</th>\n",
              "      <td>edgewalker00</td>\n",
              "      <td>Male</td>\n",
              "      <td>Sep 5</td>\n",
              "      <td>['5680', '849', '2904', '3588', '37349']</td>\n",
              "      <td>https://myanimelist.net/profile/edgewalker00</td>\n",
              "    </tr>\n",
              "    <tr>\n",
              "      <th>4</th>\n",
              "      <td>aManOfCulture99</td>\n",
              "      <td>Male</td>\n",
              "      <td>Oct 30, 1999</td>\n",
              "      <td>['4181', '7791', '9617', '5680', '2167', '4382...</td>\n",
              "      <td>https://myanimelist.net/profile/aManOfCulture99</td>\n",
              "    </tr>\n",
              "    <tr>\n",
              "      <th>...</th>\n",
              "      <td>...</td>\n",
              "      <td>...</td>\n",
              "      <td>...</td>\n",
              "      <td>...</td>\n",
              "      <td>...</td>\n",
              "    </tr>\n",
              "    <tr>\n",
              "      <th>81722</th>\n",
              "      <td>lovelessxd</td>\n",
              "      <td>Female</td>\n",
              "      <td>Aug 6, 1992</td>\n",
              "      <td>['853', '5114']</td>\n",
              "      <td>https://myanimelist.net/profile/lovelessxd</td>\n",
              "    </tr>\n",
              "    <tr>\n",
              "      <th>81723</th>\n",
              "      <td>Shattered_Angel</td>\n",
              "      <td>Female</td>\n",
              "      <td>Sep 6, 1994</td>\n",
              "      <td>['150', '27', '1520', '121', '31452', '32995',...</td>\n",
              "      <td>https://myanimelist.net/profile/Shattered_Angel</td>\n",
              "    </tr>\n",
              "    <tr>\n",
              "      <th>81724</th>\n",
              "      <td>FluffyWalrus</td>\n",
              "      <td>Male</td>\n",
              "      <td>NaN</td>\n",
              "      <td>['121', '43', '237', '202', '205']</td>\n",
              "      <td>https://myanimelist.net/profile/FluffyWalrus</td>\n",
              "    </tr>\n",
              "    <tr>\n",
              "      <th>81725</th>\n",
              "      <td>camco</td>\n",
              "      <td>Female</td>\n",
              "      <td>Sep 23</td>\n",
              "      <td>['199', '4224', '7054', '13601', '14713']</td>\n",
              "      <td>https://myanimelist.net/profile/camco</td>\n",
              "    </tr>\n",
              "    <tr>\n",
              "      <th>81726</th>\n",
              "      <td>nyja-chan</td>\n",
              "      <td>Female</td>\n",
              "      <td>Nov 13</td>\n",
              "      <td>['39195', '38000', '440', '457', '34599', '225...</td>\n",
              "      <td>https://myanimelist.net/profile/nyja-chan</td>\n",
              "    </tr>\n",
              "  </tbody>\n",
              "</table>\n",
              "<p>81727 rows × 5 columns</p>\n",
              "</div>\n",
              "      <button class=\"colab-df-convert\" onclick=\"convertToInteractive('df-a6dc8102-7a50-4c66-a528-19bd5b170f7c')\"\n",
              "              title=\"Convert this dataframe to an interactive table.\"\n",
              "              style=\"display:none;\">\n",
              "        \n",
              "  <svg xmlns=\"http://www.w3.org/2000/svg\" height=\"24px\"viewBox=\"0 0 24 24\"\n",
              "       width=\"24px\">\n",
              "    <path d=\"M0 0h24v24H0V0z\" fill=\"none\"/>\n",
              "    <path d=\"M18.56 5.44l.94 2.06.94-2.06 2.06-.94-2.06-.94-.94-2.06-.94 2.06-2.06.94zm-11 1L8.5 8.5l.94-2.06 2.06-.94-2.06-.94L8.5 2.5l-.94 2.06-2.06.94zm10 10l.94 2.06.94-2.06 2.06-.94-2.06-.94-.94-2.06-.94 2.06-2.06.94z\"/><path d=\"M17.41 7.96l-1.37-1.37c-.4-.4-.92-.59-1.43-.59-.52 0-1.04.2-1.43.59L10.3 9.45l-7.72 7.72c-.78.78-.78 2.05 0 2.83L4 21.41c.39.39.9.59 1.41.59.51 0 1.02-.2 1.41-.59l7.78-7.78 2.81-2.81c.8-.78.8-2.07 0-2.86zM5.41 20L4 18.59l7.72-7.72 1.47 1.35L5.41 20z\"/>\n",
              "  </svg>\n",
              "      </button>\n",
              "      \n",
              "  <style>\n",
              "    .colab-df-container {\n",
              "      display:flex;\n",
              "      flex-wrap:wrap;\n",
              "      gap: 12px;\n",
              "    }\n",
              "\n",
              "    .colab-df-convert {\n",
              "      background-color: #E8F0FE;\n",
              "      border: none;\n",
              "      border-radius: 50%;\n",
              "      cursor: pointer;\n",
              "      display: none;\n",
              "      fill: #1967D2;\n",
              "      height: 32px;\n",
              "      padding: 0 0 0 0;\n",
              "      width: 32px;\n",
              "    }\n",
              "\n",
              "    .colab-df-convert:hover {\n",
              "      background-color: #E2EBFA;\n",
              "      box-shadow: 0px 1px 2px rgba(60, 64, 67, 0.3), 0px 1px 3px 1px rgba(60, 64, 67, 0.15);\n",
              "      fill: #174EA6;\n",
              "    }\n",
              "\n",
              "    [theme=dark] .colab-df-convert {\n",
              "      background-color: #3B4455;\n",
              "      fill: #D2E3FC;\n",
              "    }\n",
              "\n",
              "    [theme=dark] .colab-df-convert:hover {\n",
              "      background-color: #434B5C;\n",
              "      box-shadow: 0px 1px 3px 1px rgba(0, 0, 0, 0.15);\n",
              "      filter: drop-shadow(0px 1px 2px rgba(0, 0, 0, 0.3));\n",
              "      fill: #FFFFFF;\n",
              "    }\n",
              "  </style>\n",
              "\n",
              "      <script>\n",
              "        const buttonEl =\n",
              "          document.querySelector('#df-a6dc8102-7a50-4c66-a528-19bd5b170f7c button.colab-df-convert');\n",
              "        buttonEl.style.display =\n",
              "          google.colab.kernel.accessAllowed ? 'block' : 'none';\n",
              "\n",
              "        async function convertToInteractive(key) {\n",
              "          const element = document.querySelector('#df-a6dc8102-7a50-4c66-a528-19bd5b170f7c');\n",
              "          const dataTable =\n",
              "            await google.colab.kernel.invokeFunction('convertToInteractive',\n",
              "                                                     [key], {});\n",
              "          if (!dataTable) return;\n",
              "\n",
              "          const docLinkHtml = 'Like what you see? Visit the ' +\n",
              "            '<a target=\"_blank\" href=https://colab.research.google.com/notebooks/data_table.ipynb>data table notebook</a>'\n",
              "            + ' to learn more about interactive tables.';\n",
              "          element.innerHTML = '';\n",
              "          dataTable['output_type'] = 'display_data';\n",
              "          await google.colab.output.renderOutput(dataTable, element);\n",
              "          const docLink = document.createElement('div');\n",
              "          docLink.innerHTML = docLinkHtml;\n",
              "          element.appendChild(docLink);\n",
              "        }\n",
              "      </script>\n",
              "    </div>\n",
              "  </div>\n",
              "  "
            ]
          },
          "metadata": {},
          "execution_count": 502
        }
      ]
    },
    {
      "cell_type": "code",
      "source": [
        "dfprofile = dfprofile.dropna()                             #dropping null value entries  \n",
        "dfprofile = dfprofile.drop([\"link\"], axis=1)               #dropping unwanted column"
      ],
      "metadata": {
        "id": "4hKm_33fc0Bs"
      },
      "execution_count": 503,
      "outputs": []
    },
    {
      "cell_type": "code",
      "source": [
        "dfprofile = dfprofile.loc[~(dfprofile['favorites_anime'] == '[]')]     #removing the entries with no actual data"
      ],
      "metadata": {
        "id": "ixfJdVnjbNVJ"
      },
      "execution_count": 504,
      "outputs": []
    },
    {
      "cell_type": "code",
      "execution_count": 505,
      "metadata": {
        "id": "Egteg7t-k2ag",
        "colab": {
          "base_uri": "https://localhost:8080/"
        },
        "outputId": "66495417-b6e5-469b-ef1c-e5dc855b3280"
      },
      "outputs": [
        {
          "output_type": "stream",
          "name": "stderr",
          "text": [
            "/usr/local/lib/python3.7/dist-packages/ipykernel_launcher.py:6: SettingWithCopyWarning: \n",
            "A value is trying to be set on a copy of a slice from a DataFrame\n",
            "\n",
            "See the caveats in the documentation: https://pandas.pydata.org/pandas-docs/stable/user_guide/indexing.html#returning-a-view-versus-a-copy\n",
            "  \n"
          ]
        },
        {
          "output_type": "stream",
          "name": "stdout",
          "text": [
            "0        26\n",
            "1        20\n",
            "4        21\n",
            "7        35\n",
            "8        28\n",
            "         ..\n",
            "81715    24\n",
            "81718    28\n",
            "81719    28\n",
            "81722    28\n",
            "81723    26\n",
            "Name: Age, Length: 33426, dtype: int64\n"
          ]
        }
      ],
      "source": [
        "dfprofile[\"Age\"]=0                                           #making new column as age of the user\n",
        "                                                             #using birthday to calculate age\n",
        "for i in dfprofile.index:\n",
        "  for j in range(1970,2020):\n",
        "    if (str(j) in str(dfprofile[\"birthday\"][i]))==1 :\n",
        "      dfprofile[\"Age\"][i]= 2020-j\n",
        "      break\n",
        "dfprofile = dfprofile.loc[~(dfprofile['Age'] == 0)]\n",
        "print(dfprofile[\"Age\"])"
      ]
    },
    {
      "cell_type": "code",
      "source": [
        "dfprofile.info()                     #final profile dataset"
      ],
      "metadata": {
        "id": "a_bF_70NfbWD",
        "colab": {
          "base_uri": "https://localhost:8080/"
        },
        "outputId": "e3fce4f3-c1ba-4ad4-828a-fe097e330773"
      },
      "execution_count": 506,
      "outputs": [
        {
          "output_type": "stream",
          "name": "stdout",
          "text": [
            "<class 'pandas.core.frame.DataFrame'>\n",
            "Int64Index: 33426 entries, 0 to 81723\n",
            "Data columns (total 5 columns):\n",
            " #   Column           Non-Null Count  Dtype \n",
            "---  ------           --------------  ----- \n",
            " 0   profile          33426 non-null  object\n",
            " 1   gender           33426 non-null  object\n",
            " 2   birthday         33426 non-null  object\n",
            " 3   favorites_anime  33426 non-null  object\n",
            " 4   Age              33426 non-null  int64 \n",
            "dtypes: int64(1), object(4)\n",
            "memory usage: 1.5+ MB\n"
          ]
        }
      ]
    },
    {
      "cell_type": "code",
      "source": [
        "dfprofile                            #final profile dataset"
      ],
      "metadata": {
        "id": "NMFDTV2GfhQw",
        "colab": {
          "base_uri": "https://localhost:8080/",
          "height": 424
        },
        "outputId": "f49deebb-aa5d-437c-b0b1-2587359faeb0"
      },
      "execution_count": 507,
      "outputs": [
        {
          "output_type": "execute_result",
          "data": {
            "text/plain": [
              "               profile  gender      birthday  \\\n",
              "0       DesolatePsyche    Male   Oct 2, 1994   \n",
              "1            baekbeans  Female  Nov 10, 2000   \n",
              "4      aManOfCulture99    Male  Oct 30, 1999   \n",
              "7         NIGGER_BONER    Male   Jan 1, 1985   \n",
              "8               jchang    Male  Jul 29, 1992   \n",
              "...                ...     ...           ...   \n",
              "81715         sango868  Female  Feb 14, 1996   \n",
              "81718        HajisSoul    Male  Nov 12, 1992   \n",
              "81719      samdineen20  Female  Apr 18, 1992   \n",
              "81722       lovelessxd  Female   Aug 6, 1992   \n",
              "81723  Shattered_Angel  Female   Sep 6, 1994   \n",
              "\n",
              "                                         favorites_anime  Age  \n",
              "0      ['33352', '25013', '5530', '33674', '1482', '2...   26  \n",
              "1      ['11061', '31964', '853', '20583', '918', '925...   20  \n",
              "4      ['4181', '7791', '9617', '5680', '2167', '4382...   21  \n",
              "7      ['11061', '30', '6594', '28701', '10087', '674...   35  \n",
              "8                  ['846', '2904', '5114', '2924', '72']   28  \n",
              "...                                                  ...  ...  \n",
              "81715     ['269', '355', '5114', '4898', '934', '32995']   24  \n",
              "81718                                            ['150']   28  \n",
              "81719             ['120', '150', '3457', '3655', '4898']   28  \n",
              "81722                                    ['853', '5114']   28  \n",
              "81723  ['150', '27', '1520', '121', '31452', '32995',...   26  \n",
              "\n",
              "[33426 rows x 5 columns]"
            ],
            "text/html": [
              "\n",
              "  <div id=\"df-4b5b0aca-c798-4534-bcad-81694a2ef23c\">\n",
              "    <div class=\"colab-df-container\">\n",
              "      <div>\n",
              "<style scoped>\n",
              "    .dataframe tbody tr th:only-of-type {\n",
              "        vertical-align: middle;\n",
              "    }\n",
              "\n",
              "    .dataframe tbody tr th {\n",
              "        vertical-align: top;\n",
              "    }\n",
              "\n",
              "    .dataframe thead th {\n",
              "        text-align: right;\n",
              "    }\n",
              "</style>\n",
              "<table border=\"1\" class=\"dataframe\">\n",
              "  <thead>\n",
              "    <tr style=\"text-align: right;\">\n",
              "      <th></th>\n",
              "      <th>profile</th>\n",
              "      <th>gender</th>\n",
              "      <th>birthday</th>\n",
              "      <th>favorites_anime</th>\n",
              "      <th>Age</th>\n",
              "    </tr>\n",
              "  </thead>\n",
              "  <tbody>\n",
              "    <tr>\n",
              "      <th>0</th>\n",
              "      <td>DesolatePsyche</td>\n",
              "      <td>Male</td>\n",
              "      <td>Oct 2, 1994</td>\n",
              "      <td>['33352', '25013', '5530', '33674', '1482', '2...</td>\n",
              "      <td>26</td>\n",
              "    </tr>\n",
              "    <tr>\n",
              "      <th>1</th>\n",
              "      <td>baekbeans</td>\n",
              "      <td>Female</td>\n",
              "      <td>Nov 10, 2000</td>\n",
              "      <td>['11061', '31964', '853', '20583', '918', '925...</td>\n",
              "      <td>20</td>\n",
              "    </tr>\n",
              "    <tr>\n",
              "      <th>4</th>\n",
              "      <td>aManOfCulture99</td>\n",
              "      <td>Male</td>\n",
              "      <td>Oct 30, 1999</td>\n",
              "      <td>['4181', '7791', '9617', '5680', '2167', '4382...</td>\n",
              "      <td>21</td>\n",
              "    </tr>\n",
              "    <tr>\n",
              "      <th>7</th>\n",
              "      <td>NIGGER_BONER</td>\n",
              "      <td>Male</td>\n",
              "      <td>Jan 1, 1985</td>\n",
              "      <td>['11061', '30', '6594', '28701', '10087', '674...</td>\n",
              "      <td>35</td>\n",
              "    </tr>\n",
              "    <tr>\n",
              "      <th>8</th>\n",
              "      <td>jchang</td>\n",
              "      <td>Male</td>\n",
              "      <td>Jul 29, 1992</td>\n",
              "      <td>['846', '2904', '5114', '2924', '72']</td>\n",
              "      <td>28</td>\n",
              "    </tr>\n",
              "    <tr>\n",
              "      <th>...</th>\n",
              "      <td>...</td>\n",
              "      <td>...</td>\n",
              "      <td>...</td>\n",
              "      <td>...</td>\n",
              "      <td>...</td>\n",
              "    </tr>\n",
              "    <tr>\n",
              "      <th>81715</th>\n",
              "      <td>sango868</td>\n",
              "      <td>Female</td>\n",
              "      <td>Feb 14, 1996</td>\n",
              "      <td>['269', '355', '5114', '4898', '934', '32995']</td>\n",
              "      <td>24</td>\n",
              "    </tr>\n",
              "    <tr>\n",
              "      <th>81718</th>\n",
              "      <td>HajisSoul</td>\n",
              "      <td>Male</td>\n",
              "      <td>Nov 12, 1992</td>\n",
              "      <td>['150']</td>\n",
              "      <td>28</td>\n",
              "    </tr>\n",
              "    <tr>\n",
              "      <th>81719</th>\n",
              "      <td>samdineen20</td>\n",
              "      <td>Female</td>\n",
              "      <td>Apr 18, 1992</td>\n",
              "      <td>['120', '150', '3457', '3655', '4898']</td>\n",
              "      <td>28</td>\n",
              "    </tr>\n",
              "    <tr>\n",
              "      <th>81722</th>\n",
              "      <td>lovelessxd</td>\n",
              "      <td>Female</td>\n",
              "      <td>Aug 6, 1992</td>\n",
              "      <td>['853', '5114']</td>\n",
              "      <td>28</td>\n",
              "    </tr>\n",
              "    <tr>\n",
              "      <th>81723</th>\n",
              "      <td>Shattered_Angel</td>\n",
              "      <td>Female</td>\n",
              "      <td>Sep 6, 1994</td>\n",
              "      <td>['150', '27', '1520', '121', '31452', '32995',...</td>\n",
              "      <td>26</td>\n",
              "    </tr>\n",
              "  </tbody>\n",
              "</table>\n",
              "<p>33426 rows × 5 columns</p>\n",
              "</div>\n",
              "      <button class=\"colab-df-convert\" onclick=\"convertToInteractive('df-4b5b0aca-c798-4534-bcad-81694a2ef23c')\"\n",
              "              title=\"Convert this dataframe to an interactive table.\"\n",
              "              style=\"display:none;\">\n",
              "        \n",
              "  <svg xmlns=\"http://www.w3.org/2000/svg\" height=\"24px\"viewBox=\"0 0 24 24\"\n",
              "       width=\"24px\">\n",
              "    <path d=\"M0 0h24v24H0V0z\" fill=\"none\"/>\n",
              "    <path d=\"M18.56 5.44l.94 2.06.94-2.06 2.06-.94-2.06-.94-.94-2.06-.94 2.06-2.06.94zm-11 1L8.5 8.5l.94-2.06 2.06-.94-2.06-.94L8.5 2.5l-.94 2.06-2.06.94zm10 10l.94 2.06.94-2.06 2.06-.94-2.06-.94-.94-2.06-.94 2.06-2.06.94z\"/><path d=\"M17.41 7.96l-1.37-1.37c-.4-.4-.92-.59-1.43-.59-.52 0-1.04.2-1.43.59L10.3 9.45l-7.72 7.72c-.78.78-.78 2.05 0 2.83L4 21.41c.39.39.9.59 1.41.59.51 0 1.02-.2 1.41-.59l7.78-7.78 2.81-2.81c.8-.78.8-2.07 0-2.86zM5.41 20L4 18.59l7.72-7.72 1.47 1.35L5.41 20z\"/>\n",
              "  </svg>\n",
              "      </button>\n",
              "      \n",
              "  <style>\n",
              "    .colab-df-container {\n",
              "      display:flex;\n",
              "      flex-wrap:wrap;\n",
              "      gap: 12px;\n",
              "    }\n",
              "\n",
              "    .colab-df-convert {\n",
              "      background-color: #E8F0FE;\n",
              "      border: none;\n",
              "      border-radius: 50%;\n",
              "      cursor: pointer;\n",
              "      display: none;\n",
              "      fill: #1967D2;\n",
              "      height: 32px;\n",
              "      padding: 0 0 0 0;\n",
              "      width: 32px;\n",
              "    }\n",
              "\n",
              "    .colab-df-convert:hover {\n",
              "      background-color: #E2EBFA;\n",
              "      box-shadow: 0px 1px 2px rgba(60, 64, 67, 0.3), 0px 1px 3px 1px rgba(60, 64, 67, 0.15);\n",
              "      fill: #174EA6;\n",
              "    }\n",
              "\n",
              "    [theme=dark] .colab-df-convert {\n",
              "      background-color: #3B4455;\n",
              "      fill: #D2E3FC;\n",
              "    }\n",
              "\n",
              "    [theme=dark] .colab-df-convert:hover {\n",
              "      background-color: #434B5C;\n",
              "      box-shadow: 0px 1px 3px 1px rgba(0, 0, 0, 0.15);\n",
              "      filter: drop-shadow(0px 1px 2px rgba(0, 0, 0, 0.3));\n",
              "      fill: #FFFFFF;\n",
              "    }\n",
              "  </style>\n",
              "\n",
              "      <script>\n",
              "        const buttonEl =\n",
              "          document.querySelector('#df-4b5b0aca-c798-4534-bcad-81694a2ef23c button.colab-df-convert');\n",
              "        buttonEl.style.display =\n",
              "          google.colab.kernel.accessAllowed ? 'block' : 'none';\n",
              "\n",
              "        async function convertToInteractive(key) {\n",
              "          const element = document.querySelector('#df-4b5b0aca-c798-4534-bcad-81694a2ef23c');\n",
              "          const dataTable =\n",
              "            await google.colab.kernel.invokeFunction('convertToInteractive',\n",
              "                                                     [key], {});\n",
              "          if (!dataTable) return;\n",
              "\n",
              "          const docLinkHtml = 'Like what you see? Visit the ' +\n",
              "            '<a target=\"_blank\" href=https://colab.research.google.com/notebooks/data_table.ipynb>data table notebook</a>'\n",
              "            + ' to learn more about interactive tables.';\n",
              "          element.innerHTML = '';\n",
              "          dataTable['output_type'] = 'display_data';\n",
              "          await google.colab.output.renderOutput(dataTable, element);\n",
              "          const docLink = document.createElement('div');\n",
              "          docLink.innerHTML = docLinkHtml;\n",
              "          element.appendChild(docLink);\n",
              "        }\n",
              "      </script>\n",
              "    </div>\n",
              "  </div>\n",
              "  "
            ]
          },
          "metadata": {},
          "execution_count": 507
        }
      ]
    },
    {
      "cell_type": "markdown",
      "source": [
        "# **Data Visualization**"
      ],
      "metadata": {
        "id": "LKy4gXkqhIga"
      }
    },
    {
      "cell_type": "markdown",
      "source": [
        "##Visualization of animes dataset"
      ],
      "metadata": {
        "id": "5jkhIieDsJKv"
      }
    },
    {
      "cell_type": "markdown",
      "source": [
        "Histograms of different parameters of Animes"
      ],
      "metadata": {
        "id": "qxP3disMo7eu"
      }
    },
    {
      "cell_type": "code",
      "source": [
        "plt.figure(figsize=(10,5))\n",
        "plt.hist(dfanime[\"Year\"], bins = 50)              #histogram of Year vs no of animes\n",
        "plt.xlabel(\"Year\")\n",
        "plt.ylabel(\"No. of Animes\")\n",
        "plt.show()\n",
        "print(dfanime[\"Year\"].mean())"
      ],
      "metadata": {
        "colab": {
          "base_uri": "https://localhost:8080/",
          "height": 351
        },
        "id": "6YrxZJRhhKlO",
        "outputId": "8d2de62b-453d-4e30-8c74-ce049e03d28f"
      },
      "execution_count": 508,
      "outputs": [
        {
          "output_type": "display_data",
          "data": {
            "text/plain": [
              "<Figure size 720x360 with 1 Axes>"
            ],
            "image/png": "[encoded data removed]"
          },
          "metadata": {}
        },
        {
          "output_type": "stream",
          "name": "stdout",
          "text": [
            "2005.0904458598727\n"
          ]
        }
      ]
    },
    {
      "cell_type": "code",
      "source": [
        "plt.figure(figsize=(10,5))\n",
        "plt.hist(dfanime[\"score\"], bins = 50)                  #histogram of score vs no of animes\n",
        "plt.xlabel(\"Score\")\n",
        "plt.ylabel(\"No. of Animes\")\n",
        "plt.show()\n",
        "print(\"Mean = \" + str(dfanime[\"score\"].mean()))"
      ],
      "metadata": {
        "colab": {
          "base_uri": "https://localhost:8080/",
          "height": 351
        },
        "id": "4K8mkUqcjzhH",
        "outputId": "876182a0-cd93-4294-ca72-856b20df2fae"
      },
      "execution_count": 509,
      "outputs": [
        {
          "output_type": "display_data",
          "data": {
            "text/plain": [
              "<Figure size 720x360 with 1 Axes>"
            ],
            "image/png": "[encoded data removed]"
          },
          "metadata": {}
        },
        {
          "output_type": "stream",
          "name": "stdout",
          "text": [
            "Mean = 6.514993630573248\n"
          ]
        }
      ]
    },
    {
      "cell_type": "code",
      "source": [
        "plt.figure(figsize=(10,5))                                    \n",
        "plt.hist(dfanime[\"episodes\"],bins=50)            #histogram of episodes vs no of animes\n",
        "plt.xlabel(\"NO. of Episodes\")\n",
        "plt.ylabel(\"No. of Animes\")\n",
        "plt.show()\n",
        "print(\"Mean = \" + str(dfanime[\"episodes\"].mean()))"
      ],
      "metadata": {
        "colab": {
          "base_uri": "https://localhost:8080/",
          "height": 351
        },
        "id": "GROBcfufjzka",
        "outputId": "3e3f0c66-912f-4756-d440-f22b67b684aa"
      },
      "execution_count": 510,
      "outputs": [
        {
          "output_type": "display_data",
          "data": {
            "text/plain": [
              "<Figure size 720x360 with 1 Axes>"
            ],
            "image/png": "[encoded data removed]"
          },
          "metadata": {}
        },
        {
          "output_type": "stream",
          "name": "stdout",
          "text": [
            "Mean = 13.249815621857191\n"
          ]
        }
      ]
    },
    {
      "cell_type": "code",
      "source": [
        "plt.figure(figsize=(10,5))                                              #zoomed in version of above but includes movies and OVA's\n",
        "dfanimecut = dfanime[dfanime[\"episodes\"]<50]\n",
        "plt.hist(dfanimecut[dfanimecut[\"episodes\"]>0][\"episodes\"], bins = 50)\n",
        "plt.xlabel(\"No. of Episodes\")\n",
        "plt.ylabel(\"No. of Animes\")\n",
        "plt.show()\n",
        "print(\"Mean = \" + str(dfanime[\"episodes\"].mean()))"
      ],
      "metadata": {
        "colab": {
          "base_uri": "https://localhost:8080/",
          "height": 351
        },
        "id": "4orDfPzR4aC7",
        "outputId": "10531257-8247-41e3-897e-93be64d16ade"
      },
      "execution_count": 511,
      "outputs": [
        {
          "output_type": "display_data",
          "data": {
            "text/plain": [
              "<Figure size 720x360 with 1 Axes>"
            ],
            "image/png": "[encoded data removed]"
          },
          "metadata": {}
        },
        {
          "output_type": "stream",
          "name": "stdout",
          "text": [
            "Mean = 13.249815621857191\n"
          ]
        }
      ]
    },
    {
      "cell_type": "code",
      "source": [
        "plt.figure(figsize=(10,5))                                              #zoomed in version of above but excludes movie and ovas\n",
        "dfanimecut = dfanime[dfanime[\"episodes\"]>5]\n",
        "plt.hist(dfanimecut[dfanimecut[\"episodes\"]<50][\"episodes\"], bins = 49)\n",
        "plt.xlabel(\"No. of Episodes\")\n",
        "plt.ylabel(\"No. of Animes\")\n",
        "plt.show()\n",
        "print(\"Mean = \" + str(dfanime[dfanime[\"episodes\"]>5][\"episodes\"].mean()))"
      ],
      "metadata": {
        "colab": {
          "base_uri": "https://localhost:8080/",
          "height": 351
        },
        "id": "Hp7hdQkX7e1M",
        "outputId": "fea75d3b-0cef-417b-c7e1-aba142655c38"
      },
      "execution_count": 512,
      "outputs": [
        {
          "output_type": "display_data",
          "data": {
            "text/plain": [
              "<Figure size 720x360 with 1 Axes>"
            ],
            "image/png": "[encoded data removed]"
          },
          "metadata": {}
        },
        {
          "output_type": "stream",
          "name": "stdout",
          "text": [
            "Mean = 30.67190342318505\n"
          ]
        }
      ]
    },
    {
      "cell_type": "code",
      "source": [
        "plt.figure(figsize=(10,5))\n",
        "plt.hist(dfanime[\"members\"], bins = 50)              #histogram of members vs no of animes\n",
        "plt.xlabel(\"No. of Members\")\n",
        "plt.ylabel(\"No. of Animes\")\n",
        "plt.show()\n",
        "print(\"Mean = \" + str(dfanime[\"members\"].mean()))"
      ],
      "metadata": {
        "colab": {
          "base_uri": "https://localhost:8080/",
          "height": 351
        },
        "id": "Plpil-V23x03",
        "outputId": "81d75adf-c82c-40d0-ddc1-26520d2f73ab"
      },
      "execution_count": 513,
      "outputs": [
        {
          "output_type": "display_data",
          "data": {
            "text/plain": [
              "<Figure size 720x360 with 1 Axes>"
            ],
            "image/png": "[encoded data removed]"
          },
          "metadata": {}
        },
        {
          "output_type": "stream",
          "name": "stdout",
          "text": [
            "Mean = 43376.70050284948\n"
          ]
        }
      ]
    },
    {
      "cell_type": "code",
      "source": [
        "plt.figure(figsize=(10,5))                                              #zoomed in version of above\n",
        "plt.hist(dfanime[dfanime[\"members\"]<2000][\"members\"], bins = 100)\n",
        "plt.xlabel(\"No. of Members\")\n",
        "plt.ylabel(\"No. of Animes\")\n",
        "plt.show()\n",
        "print(\"Mean = \" + str(dfanime[\"members\"].mean()))"
      ],
      "metadata": {
        "colab": {
          "base_uri": "https://localhost:8080/",
          "height": 351
        },
        "id": "a8Yn4UlWjzn4",
        "outputId": "993c31d9-1cc6-4d24-8bc4-22095e8ecfbf"
      },
      "execution_count": 514,
      "outputs": [
        {
          "output_type": "display_data",
          "data": {
            "text/plain": [
              "<Figure size 720x360 with 1 Axes>"
            ],
            "image/png": "[encoded data removed]"
          },
          "metadata": {}
        },
        {
          "output_type": "stream",
          "name": "stdout",
          "text": [
            "Mean = 43376.70050284948\n"
          ]
        }
      ]
    },
    {
      "cell_type": "code",
      "source": [
        "plt.figure(figsize=(10,5))\n",
        "plt.hist(dfanime[\"popularity\"], bins = 50)                 #histogram of popularity vs no of animes\n",
        "plt.xlabel(\"Popularity\")\n",
        "plt.ylabel(\"No. of Animes\")\n",
        "plt.show()\n",
        "print(\"Mean = \" + str(dfanime[\"popularity\"].mean()))"
      ],
      "metadata": {
        "id": "o25B6tPqkGOy",
        "colab": {
          "base_uri": "https://localhost:8080/",
          "height": 351
        },
        "outputId": "a4cf8ba5-aa92-40c5-eb83-bd815867176e"
      },
      "execution_count": 515,
      "outputs": [
        {
          "output_type": "display_data",
          "data": {
            "text/plain": [
              "<Figure size 720x360 with 1 Axes>"
            ],
            "image/png": "[encoded data removed]"
          },
          "metadata": {}
        },
        {
          "output_type": "stream",
          "name": "stdout",
          "text": [
            "Mean = 7469.587060006705\n"
          ]
        }
      ]
    },
    {
      "cell_type": "markdown",
      "source": [
        "Comparing Trends in Different Years"
      ],
      "metadata": {
        "id": "79b-xT8xoPLD"
      }
    },
    {
      "cell_type": "code",
      "source": [
        "def year_plt_avg(parameter):                                                #fuction used to plot a line graph of a particular parameter vs time\n",
        "  list1=[]\n",
        "  for i in range(1970,2021):\n",
        "    list1.append(dfanimecut[dfanimecut[\"Year\"]==i][parameter].mean())          \n",
        "  plt.figure(figsize=(10,5))\n",
        "  plt.plot(range(1970,2021),list1,color =\"purple\")\n",
        "  plt.xlabel(parameter)\n",
        "  plt.ylabel(\"Year\")\n",
        "  plt.show()\n",
        "\n",
        "plotlist1 = [\"episodes\",\"members\",\"score\"]                #parameters we want to plot against time\n",
        "for i in plotlist1:\n",
        "  year_plt_avg(i)"
      ],
      "metadata": {
        "colab": {
          "base_uri": "https://localhost:8080/",
          "height": 968
        },
        "id": "uavw6a5_oY2b",
        "outputId": "a5ecaa51-86c1-4f49-eece-92c8ebb2b3d1"
      },
      "execution_count": 516,
      "outputs": [
        {
          "output_type": "display_data",
          "data": {
            "text/plain": [
              "<Figure size 720x360 with 1 Axes>"
            ],
            "image/png": "[encoded data removed]"
          },
          "metadata": {}
        },
        {
          "output_type": "display_data",
          "data": {
            "text/plain": [
              "<Figure size 720x360 with 1 Axes>"
            ],
            "image/png": "[encoded data removed]"
          },
          "metadata": {}
        },
        {
          "output_type": "display_data",
          "data": {
            "text/plain": [
              "<Figure size 720x360 with 1 Axes>"
            ],
            "image/png": "[encoded data removed]"
          },
          "metadata": {}
        }
      ]
    },
    {
      "cell_type": "markdown",
      "source": [
        "Comparing no of Episodes with other parameters"
      ],
      "metadata": {
        "id": "HXq5OzdvBvkA"
      }
    },
    {
      "cell_type": "code",
      "source": [
        "def episodes_plt_avg(parameter):\n",
        "  list1=[]\n",
        "  for i in range(0,100):\n",
        "    list1.append(dfanime[dfanime[\"episodes\"]==i][parameter].mean())      #fuction used to plot a line graph of a particular parameter vs no of episodes\n",
        "  plt.figure(figsize=(10,5))\n",
        "  plt.bar(range(0,100),list1)\n",
        "  plt.xlabel(parameter)\n",
        "  plt.ylabel(\"No. of Episodes\")\n",
        "  plt.show()\n",
        "\n",
        "plotlist2 = [\"members\",\"score\"]                    #parameters we want to plot against no of episodes\n",
        "for i in plotlist2:\n",
        "  episodes_plt_avg(i)"
      ],
      "metadata": {
        "colab": {
          "base_uri": "https://localhost:8080/",
          "height": 651
        },
        "id": "TKTPlEADqwit",
        "outputId": "f2b41cc8-631b-44c8-fd7d-49551114dce5"
      },
      "execution_count": 517,
      "outputs": [
        {
          "output_type": "display_data",
          "data": {
            "text/plain": [
              "<Figure size 720x360 with 1 Axes>"
            ],
            "image/png": "[encoded data removed]"
          },
          "metadata": {}
        },
        {
          "output_type": "display_data",
          "data": {
            "text/plain": [
              "<Figure size 720x360 with 1 Axes>"
            ],
            "image/png": "[encoded data removed]"
          },
          "metadata": {}
        }
      ]
    },
    {
      "cell_type": "markdown",
      "source": [
        "Other Plots"
      ],
      "metadata": {
        "id": "PWMjKtbmr5Jj"
      }
    },
    {
      "cell_type": "code",
      "source": [
        "plt.figure(figsize=(10,5))                                  \n",
        "sb.lineplot(x='score',y='ranked',data=dfanime,color=\"purple\")                #line graph to plot ranking of anime vs score"
      ],
      "metadata": {
        "colab": {
          "base_uri": "https://localhost:8080/",
          "height": 351
        },
        "id": "gu-49sjMHImu",
        "outputId": "da9642f5-5b59-4ae9-84a4-60395c426021"
      },
      "execution_count": 518,
      "outputs": [
        {
          "output_type": "execute_result",
          "data": {
            "text/plain": [
              "<matplotlib.axes._subplots.AxesSubplot at 0x7f4fcfddfed0>"
            ]
          },
          "metadata": {},
          "execution_count": 518
        },
        {
          "output_type": "display_data",
          "data": {
            "text/plain": [
              "<Figure size 720x360 with 1 Axes>"
            ],
            "image/png": "[encoded data removed]"
          },
          "metadata": {}
        }
      ]
    },
    {
      "cell_type": "code",
      "source": [
        "dfgoodscore = dfanime[dfanime[\"score\"]>8.5]                       #finding the outlier\n",
        "df_outlier = dfgoodscore[dfgoodscore[\"ranked\"]>10000]\n",
        "df_outlier"
      ],
      "metadata": {
        "colab": {
          "base_uri": "https://localhost:8080/",
          "height": 296
        },
        "id": "S6NUcuFAqNgm",
        "outputId": "d3b9a439-5e88-43ab-d472-c1ab5360a631"
      },
      "execution_count": 519,
      "outputs": [
        {
          "output_type": "execute_result",
          "data": {
            "text/plain": [
              "         uid                        title  \\\n",
              "10805  39405  Kaitei-koku no Koutsu Anzen   \n",
              "\n",
              "                                                synopsis                genre  \\\n",
              "10805  A traffic safety anime by Toei that uses compo...  ['Fantasy', 'Kids']   \n",
              "\n",
              "      aired  episodes  members  popularity   ranked  score  ...  Shoujo Ai  \\\n",
              "10805  1990       1.0       36       16283  12550.0   8.88  ...          0   \n",
              "\n",
              "       Shounen  Shounen Ai  Slice of Life  Space  Sports  Super Power  \\\n",
              "10805        0           0              0      0       0            0   \n",
              "\n",
              "       Supernatural  Thriller  Vampire  \n",
              "10805             0         0        0  \n",
              "\n",
              "[1 rows x 51 columns]"
            ],
            "text/html": [
              "\n",
              "  <div id=\"df-99f445b0-fc97-42c7-83ee-e7668e62a3b0\">\n",
              "    <div class=\"colab-df-container\">\n",
              "      <div>\n",
              "<style scoped>\n",
              "    .dataframe tbody tr th:only-of-type {\n",
              "        vertical-align: middle;\n",
              "    }\n",
              "\n",
              "    .dataframe tbody tr th {\n",
              "        vertical-align: top;\n",
              "    }\n",
              "\n",
              "    .dataframe thead th {\n",
              "        text-align: right;\n",
              "    }\n",
              "</style>\n",
              "<table border=\"1\" class=\"dataframe\">\n",
              "  <thead>\n",
              "    <tr style=\"text-align: right;\">\n",
              "      <th></th>\n",
              "      <th>uid</th>\n",
              "      <th>title</th>\n",
              "      <th>synopsis</th>\n",
              "      <th>genre</th>\n",
              "      <th>aired</th>\n",
              "      <th>episodes</th>\n",
              "      <th>members</th>\n",
              "      <th>popularity</th>\n",
              "      <th>ranked</th>\n",
              "      <th>score</th>\n",
              "      <th>...</th>\n",
              "      <th>Shoujo Ai</th>\n",
              "      <th>Shounen</th>\n",
              "      <th>Shounen Ai</th>\n",
              "      <th>Slice of Life</th>\n",
              "      <th>Space</th>\n",
              "      <th>Sports</th>\n",
              "      <th>Super Power</th>\n",
              "      <th>Supernatural</th>\n",
              "      <th>Thriller</th>\n",
              "      <th>Vampire</th>\n",
              "    </tr>\n",
              "  </thead>\n",
              "  <tbody>\n",
              "    <tr>\n",
              "      <th>10805</th>\n",
              "      <td>39405</td>\n",
              "      <td>Kaitei-koku no Koutsu Anzen</td>\n",
              "      <td>A traffic safety anime by Toei that uses compo...</td>\n",
              "      <td>['Fantasy', 'Kids']</td>\n",
              "      <td>1990</td>\n",
              "      <td>1.0</td>\n",
              "      <td>36</td>\n",
              "      <td>16283</td>\n",
              "      <td>12550.0</td>\n",
              "      <td>8.88</td>\n",
              "      <td>...</td>\n",
              "      <td>0</td>\n",
              "      <td>0</td>\n",
              "      <td>0</td>\n",
              "      <td>0</td>\n",
              "      <td>0</td>\n",
              "      <td>0</td>\n",
              "      <td>0</td>\n",
              "      <td>0</td>\n",
              "      <td>0</td>\n",
              "      <td>0</td>\n",
              "    </tr>\n",
              "  </tbody>\n",
              "</table>\n",
              "<p>1 rows × 51 columns</p>\n",
              "</div>\n",
              "      <button class=\"colab-df-convert\" onclick=\"convertToInteractive('df-99f445b0-fc97-42c7-83ee-e7668e62a3b0')\"\n",
              "              title=\"Convert this dataframe to an interactive table.\"\n",
              "              style=\"display:none;\">\n",
              "        \n",
              "  <svg xmlns=\"http://www.w3.org/2000/svg\" height=\"24px\"viewBox=\"0 0 24 24\"\n",
              "       width=\"24px\">\n",
              "    <path d=\"M0 0h24v24H0V0z\" fill=\"none\"/>\n",
              "    <path d=\"M18.56 5.44l.94 2.06.94-2.06 2.06-.94-2.06-.94-.94-2.06-.94 2.06-2.06.94zm-11 1L8.5 8.5l.94-2.06 2.06-.94-2.06-.94L8.5 2.5l-.94 2.06-2.06.94zm10 10l.94 2.06.94-2.06 2.06-.94-2.06-.94-.94-2.06-.94 2.06-2.06.94z\"/><path d=\"M17.41 7.96l-1.37-1.37c-.4-.4-.92-.59-1.43-.59-.52 0-1.04.2-1.43.59L10.3 9.45l-7.72 7.72c-.78.78-.78 2.05 0 2.83L4 21.41c.39.39.9.59 1.41.59.51 0 1.02-.2 1.41-.59l7.78-7.78 2.81-2.81c.8-.78.8-2.07 0-2.86zM5.41 20L4 18.59l7.72-7.72 1.47 1.35L5.41 20z\"/>\n",
              "  </svg>\n",
              "      </button>\n",
              "      \n",
              "  <style>\n",
              "    .colab-df-container {\n",
              "      display:flex;\n",
              "      flex-wrap:wrap;\n",
              "      gap: 12px;\n",
              "    }\n",
              "\n",
              "    .colab-df-convert {\n",
              "      background-color: #E8F0FE;\n",
              "      border: none;\n",
              "      border-radius: 50%;\n",
              "      cursor: pointer;\n",
              "      display: none;\n",
              "      fill: #1967D2;\n",
              "      height: 32px;\n",
              "      padding: 0 0 0 0;\n",
              "      width: 32px;\n",
              "    }\n",
              "\n",
              "    .colab-df-convert:hover {\n",
              "      background-color: #E2EBFA;\n",
              "      box-shadow: 0px 1px 2px rgba(60, 64, 67, 0.3), 0px 1px 3px 1px rgba(60, 64, 67, 0.15);\n",
              "      fill: #174EA6;\n",
              "    }\n",
              "\n",
              "    [theme=dark] .colab-df-convert {\n",
              "      background-color: #3B4455;\n",
              "      fill: #D2E3FC;\n",
              "    }\n",
              "\n",
              "    [theme=dark] .colab-df-convert:hover {\n",
              "      background-color: #434B5C;\n",
              "      box-shadow: 0px 1px 3px 1px rgba(0, 0, 0, 0.15);\n",
              "      filter: drop-shadow(0px 1px 2px rgba(0, 0, 0, 0.3));\n",
              "      fill: #FFFFFF;\n",
              "    }\n",
              "  </style>\n",
              "\n",
              "      <script>\n",
              "        const buttonEl =\n",
              "          document.querySelector('#df-99f445b0-fc97-42c7-83ee-e7668e62a3b0 button.colab-df-convert');\n",
              "        buttonEl.style.display =\n",
              "          google.colab.kernel.accessAllowed ? 'block' : 'none';\n",
              "\n",
              "        async function convertToInteractive(key) {\n",
              "          const element = document.querySelector('#df-99f445b0-fc97-42c7-83ee-e7668e62a3b0');\n",
              "          const dataTable =\n",
              "            await google.colab.kernel.invokeFunction('convertToInteractive',\n",
              "                                                     [key], {});\n",
              "          if (!dataTable) return;\n",
              "\n",
              "          const docLinkHtml = 'Like what you see? Visit the ' +\n",
              "            '<a target=\"_blank\" href=https://colab.research.google.com/notebooks/data_table.ipynb>data table notebook</a>'\n",
              "            + ' to learn more about interactive tables.';\n",
              "          element.innerHTML = '';\n",
              "          dataTable['output_type'] = 'display_data';\n",
              "          await google.colab.output.renderOutput(dataTable, element);\n",
              "          const docLink = document.createElement('div');\n",
              "          docLink.innerHTML = docLinkHtml;\n",
              "          element.appendChild(docLink);\n",
              "        }\n",
              "      </script>\n",
              "    </div>\n",
              "  </div>\n",
              "  "
            ]
          },
          "metadata": {},
          "execution_count": 519
        }
      ]
    },
    {
      "cell_type": "code",
      "source": [
        "dfcorr = dfanime[[\"episodes\",\"members\",\"popularity\",\"ranked\",\"score\"]]\n",
        "plt.figure(figsize=(10,10))\n",
        "corr = dfcorr.corr(method='pearson') \n",
        "sb.heatmap((corr), annot = False)                                 #color coded heat map by pearson method\n",
        "plt.show()"
      ],
      "metadata": {
        "colab": {
          "base_uri": "https://localhost:8080/",
          "height": 596
        },
        "id": "MRsVtZhJG2nE",
        "outputId": "93ec3fb0-c1df-415f-fd78-995e07d0914c"
      },
      "execution_count": 520,
      "outputs": [
        {
          "output_type": "display_data",
          "data": {
            "text/plain": [
              "<Figure size 720x720 with 2 Axes>"
            ],
            "image/png": "[encoded data removed]"
          },
          "metadata": {}
        }
      ]
    },
    {
      "cell_type": "markdown",
      "source": [
        "## Visualization of profile of users"
      ],
      "metadata": {
        "id": "EdmRwOD9GtBF"
      }
    },
    {
      "cell_type": "code",
      "source": [
        "plt.figure(figsize=(15,7.5))                    \n",
        "gender = dfprofile.groupby('gender').size()                #pie chart of anime viewers based on gender\n",
        "gender.plot(kind='pie',title =\"Anime Viewers\", autopct=lambda p: '{:.2f}%({:.0f})'.format(p,(p/100)*gender.sum()))      "
      ],
      "metadata": {
        "colab": {
          "base_uri": "https://localhost:8080/",
          "height": 0
        },
        "id": "qTfyLJaYGwwo",
        "outputId": "1043350b-bb4c-46d3-e0ae-b73007097440"
      },
      "execution_count": 521,
      "outputs": [
        {
          "output_type": "execute_result",
          "data": {
            "text/plain": [
              "<matplotlib.axes._subplots.AxesSubplot at 0x7f4fc95ad6d0>"
            ]
          },
          "metadata": {},
          "execution_count": 521
        },
        {
          "output_type": "display_data",
          "data": {
            "text/plain": [
              "<Figure size 1080x540 with 1 Axes>"
            ],
            "image/png": "[encoded data removed]"
          },
          "metadata": {}
        }
      ]
    },
    {
      "cell_type": "code",
      "source": [
        "plt.figure(figsize=(10,5))               #histogram of Age of users vs no users\n",
        "plt.hist(dfprofile['Age'], bins=49)\n",
        "plt.xlabel(\"Age\")\n",
        "plt.ylabel(\"No. of Animes\")\n",
        "plt.show()\n",
        "print(\"Mean = \" + str(dfprofile[\"Age\"].mean()))"
      ],
      "metadata": {
        "colab": {
          "base_uri": "https://localhost:8080/",
          "height": 0
        },
        "id": "62IlVgq8JAD3",
        "outputId": "72415f28-98db-4742-82d0-e7112babacd4"
      },
      "execution_count": 522,
      "outputs": [
        {
          "output_type": "display_data",
          "data": {
            "text/plain": [
              "<Figure size 720x360 with 1 Axes>"
            ],
            "image/png": "[encoded data removed]"
          },
          "metadata": {}
        },
        {
          "output_type": "stream",
          "name": "stdout",
          "text": [
            "Mean = 25.65628552623706\n"
          ]
        }
      ]
    },
    {
      "cell_type": "code",
      "source": [
        "plt.figure(figsize=(10,5))                           #superimposed male and female graphs of no of users vs age\n",
        "plt.hist(dfprofile[dfprofile[\"gender\"]==\"Male\"][\"Age\"].reset_index(drop=True),bins=49, alpha=0.7, label=\"Male\")     \n",
        "plt.hist(dfprofile[dfprofile[\"gender\"]==\"Female\"][\"Age\"].reset_index(drop=True),bins=49, alpha=0.7, label=\"Female\")\n",
        "plt.legend()\n",
        "plt.xlabel(\"Age\")\n",
        "plt.ylabel(\"No. of Animes\")\n",
        "plt.show()\n",
        "print(\"Mean Age of Male = \" + str(dfprofile[dfprofile[\"gender\"]==\"Male\"][\"Age\"].mean()))\n",
        "print(\"Mean Age of Female = \" + str(dfprofile[dfprofile[\"gender\"]==\"Female\"][\"Age\"].mean()))"
      ],
      "metadata": {
        "colab": {
          "base_uri": "https://localhost:8080/",
          "height": 0
        },
        "id": "rr5pOjIDNUb6",
        "outputId": "86cdd11b-93f8-4190-8a8a-9378d5133790"
      },
      "execution_count": 523,
      "outputs": [
        {
          "output_type": "display_data",
          "data": {
            "text/plain": [
              "<Figure size 720x360 with 1 Axes>"
            ],
            "image/png": "[encoded data removed]"
          },
          "metadata": {}
        },
        {
          "output_type": "stream",
          "name": "stdout",
          "text": [
            "Mean Age of Male = 25.828676813498962\n",
            "Mean Age of Female = 25.30229605332769\n"
          ]
        }
      ]
    },
    {
      "cell_type": "markdown",
      "source": [
        "## Genre Analysis"
      ],
      "metadata": {
        "id": "pHDY3LuQugug"
      }
    },
    {
      "cell_type": "markdown",
      "source": [
        "### Genre vs parameters of anime"
      ],
      "metadata": {
        "id": "CTuMbLyewQrY"
      }
    },
    {
      "cell_type": "code",
      "execution_count": 524,
      "metadata": {
        "colab": {
          "base_uri": "https://localhost:8080/",
          "height": 0
        },
        "outputId": "4cdeb4e0-0d7d-4548-834d-2bd2081dc347",
        "id": "f3t_y0Bdugug"
      },
      "outputs": [
        {
          "output_type": "display_data",
          "data": {
            "text/plain": [
              "<Figure size 720x720 with 1 Axes>"
            ],
            "image/png": "[encoded data removed]"
          },
          "metadata": {}
        }
      ],
      "source": [
        "no_anime_genre = []\n",
        "for genres in genrelist:\n",
        "  no_anime_genre.append(dfanime[genres].sum())                  #bar graph of no of animes vs all genres\n",
        "plt.figure(figsize=(10,10))\n",
        "plt.barh(genrelist, no_anime_genre,color=\"green\")\n",
        "plt.xlabel(\"No. of Animes\")\n",
        "plt.ylabel(\"Genre\")\n",
        "plt.show()"
      ]
    },
    {
      "cell_type": "code",
      "source": [
        "avg_score_genre = []\n",
        "for i in genrelist:\n",
        "  avg_score_genre.append(dfanime[dfanime[i]==1][\"score\"].mean())         #bar graph of avg score of animes vs all genres\n",
        "\n",
        "plt.figure(figsize=(10,10))\n",
        "plt.barh(genrelist,avg_score_genre ,color=\"green\")\n",
        "plt.xlim(5,8)\n",
        "plt.xlabel(\"Score\")\n",
        "plt.ylabel(\"Genre\")\n",
        "plt.show()\n"
      ],
      "metadata": {
        "colab": {
          "base_uri": "https://localhost:8080/",
          "height": 0
        },
        "outputId": "23df4598-fd2b-45e1-aa29-f6a70cf5e75f",
        "id": "0yKFiu9Mugug"
      },
      "execution_count": 525,
      "outputs": [
        {
          "output_type": "display_data",
          "data": {
            "text/plain": [
              "<Figure size 720x720 with 1 Axes>"
            ],
            "image/png": "[encoded data removed]"
          },
          "metadata": {}
        }
      ]
    },
    {
      "cell_type": "code",
      "source": [
        "avg_members_genre = []\n",
        "for i in genrelist:\n",
        "  avg_members_genre.append(dfanime[dfanime[i]==1][\"members\"].mean())        #bar graph of average members of animes vs all genres\n",
        "\n",
        "plt.figure(figsize=(10,10))\n",
        "plt.barh(genrelist,avg_members_genre ,color=\"green\")\n",
        "plt.xlabel(\"Avg. Members\")\n",
        "plt.ylabel(\"Genre\")\n",
        "plt.show()"
      ],
      "metadata": {
        "colab": {
          "base_uri": "https://localhost:8080/",
          "height": 0
        },
        "outputId": "a4ca80dd-19a6-47c2-c0b6-f18c888e93d9",
        "id": "eUvwSNQtugug"
      },
      "execution_count": 526,
      "outputs": [
        {
          "output_type": "display_data",
          "data": {
            "text/plain": [
              "<Figure size 720x720 with 1 Axes>"
            ],
            "image/png": "[encoded data removed]"
          },
          "metadata": {}
        }
      ]
    },
    {
      "cell_type": "code",
      "source": [
        "avg_year_genre = []\n",
        "for i in genrelist:\n",
        "  avg_year_genre.append(dfanime[dfanime[i]==1][\"Year\"].mean())                #bar graph of avg Year of animes vs all genres\n",
        "\n",
        "plt.figure(figsize=(10,10))\n",
        "plt.barh(genrelist,avg_year_genre ,color=\"green\")\n",
        "plt.xlim(1995,2015)\n",
        "plt.xlabel(\"Avg. Year\")\n",
        "plt.ylabel(\"Genre\")\n",
        "plt.show()"
      ],
      "metadata": {
        "colab": {
          "base_uri": "https://localhost:8080/",
          "height": 0
        },
        "outputId": "f9938a79-08cf-4876-cef6-033b9d8d87d3",
        "id": "EBI-9wN1ugug"
      },
      "execution_count": 527,
      "outputs": [
        {
          "output_type": "display_data",
          "data": {
            "text/plain": [
              "<Figure size 720x720 with 1 Axes>"
            ],
            "image/png": "[encoded data removed]"
          },
          "metadata": {}
        }
      ]
    },
    {
      "cell_type": "code",
      "source": [
        "max_genre_list=[]                                  #list of genres who has maximum no of animes in that year\n",
        "for i in range(1970,2020):\n",
        "  df = dfanime[dfanime[\"Year\"]==i]\n",
        "  max_sum=0\n",
        "  max_genre=\" \"\n",
        "  for j in genrelist:\n",
        "    if(df[j].sum()>max_sum):\n",
        "      max_sum = df[j].sum() \n",
        "      max_genre = j\n",
        "  max_genre_list.append(max_genre)\n",
        "\n",
        "year_genre = pd.DataFrame(list(zip(range(1970,2020),max_genre_list)),columns =['Year' , 'Genre with most no of animes'])\n",
        "year_genre               #Table of Year & Genre with maximum no of anime"
      ],
      "metadata": {
        "colab": {
          "base_uri": "https://localhost:8080/",
          "height": 0
        },
        "id": "jMnoDwOcugug",
        "outputId": "87f1fab7-f901-44bc-fe38-879be8bb095c"
      },
      "execution_count": 528,
      "outputs": [
        {
          "output_type": "execute_result",
          "data": {
            "text/plain": [
              "    Year Genre with most no of animes\n",
              "0   1970                       Sports\n",
              "1   1971                         Kids\n",
              "2   1972                         Kids\n",
              "3   1973                    Adventure\n",
              "4   1974                         Kids\n",
              "5   1975                         Kids\n",
              "6   1976                         Kids\n",
              "7   1977                         Kids\n",
              "8   1978                    Adventure\n",
              "9   1979                    Adventure\n",
              "10  1980                    Adventure\n",
              "11  1981                    Adventure\n",
              "12  1982                       Sci-Fi\n",
              "13  1983                    Adventure\n",
              "14  1984                       Action\n",
              "15  1985                       Sci-Fi\n",
              "16  1986                       Comedy\n",
              "17  1987                       Sci-Fi\n",
              "18  1988                       Comedy\n",
              "19  1989                       Comedy\n",
              "20  1990                       Comedy\n",
              "21  1991                       Comedy\n",
              "22  1992                       Comedy\n",
              "23  1993                         Kids\n",
              "24  1994                       Comedy\n",
              "25  1995                       Comedy\n",
              "26  1996                       Comedy\n",
              "27  1997                       Comedy\n",
              "28  1998                       Comedy\n",
              "29  1999                       Comedy\n",
              "30  2000                       Comedy\n",
              "31  2001                       Comedy\n",
              "32  2002                       Comedy\n",
              "33  2003                       Comedy\n",
              "34  2004                       Comedy\n",
              "35  2005                       Comedy\n",
              "36  2006                       Comedy\n",
              "37  2007                       Comedy\n",
              "38  2008                       Comedy\n",
              "39  2009                       Comedy\n",
              "40  2010                       Comedy\n",
              "41  2011                       Comedy\n",
              "42  2012                       Comedy\n",
              "43  2013                       Comedy\n",
              "44  2014                       Comedy\n",
              "45  2015                       Comedy\n",
              "46  2016                       Comedy\n",
              "47  2017                       Comedy\n",
              "48  2018                       Comedy\n",
              "49  2019                       Comedy"
            ],
            "text/html": [
              "\n",
              "  <div id=\"df-85710e10-4cfc-4a25-a28f-6515a8a75bba\">\n",
              "    <div class=\"colab-df-container\">\n",
              "      <div>\n",
              "<style scoped>\n",
              "    .dataframe tbody tr th:only-of-type {\n",
              "        vertical-align: middle;\n",
              "    }\n",
              "\n",
              "    .dataframe tbody tr th {\n",
              "        vertical-align: top;\n",
              "    }\n",
              "\n",
              "    .dataframe thead th {\n",
              "        text-align: right;\n",
              "    }\n",
              "</style>\n",
              "<table border=\"1\" class=\"dataframe\">\n",
              "  <thead>\n",
              "    <tr style=\"text-align: right;\">\n",
              "      <th></th>\n",
              "      <th>Year</th>\n",
              "      <th>Genre with most no of animes</th>\n",
              "    </tr>\n",
              "  </thead>\n",
              "  <tbody>\n",
              "    <tr>\n",
              "      <th>0</th>\n",
              "      <td>1970</td>\n",
              "      <td>Sports</td>\n",
              "    </tr>\n",
              "    <tr>\n",
              "      <th>1</th>\n",
              "      <td>1971</td>\n",
              "      <td>Kids</td>\n",
              "    </tr>\n",
              "    <tr>\n",
              "      <th>2</th>\n",
              "      <td>1972</td>\n",
              "      <td>Kids</td>\n",
              "    </tr>\n",
              "    <tr>\n",
              "      <th>3</th>\n",
              "      <td>1973</td>\n",
              "      <td>Adventure</td>\n",
              "    </tr>\n",
              "    <tr>\n",
              "      <th>4</th>\n",
              "      <td>1974</td>\n",
              "      <td>Kids</td>\n",
              "    </tr>\n",
              "    <tr>\n",
              "      <th>5</th>\n",
              "      <td>1975</td>\n",
              "      <td>Kids</td>\n",
              "    </tr>\n",
              "    <tr>\n",
              "      <th>6</th>\n",
              "      <td>1976</td>\n",
              "      <td>Kids</td>\n",
              "    </tr>\n",
              "    <tr>\n",
              "      <th>7</th>\n",
              "      <td>1977</td>\n",
              "      <td>Kids</td>\n",
              "    </tr>\n",
              "    <tr>\n",
              "      <th>8</th>\n",
              "      <td>1978</td>\n",
              "      <td>Adventure</td>\n",
              "    </tr>\n",
              "    <tr>\n",
              "      <th>9</th>\n",
              "      <td>1979</td>\n",
              "      <td>Adventure</td>\n",
              "    </tr>\n",
              "    <tr>\n",
              "      <th>10</th>\n",
              "      <td>1980</td>\n",
              "      <td>Adventure</td>\n",
              "    </tr>\n",
              "    <tr>\n",
              "      <th>11</th>\n",
              "      <td>1981</td>\n",
              "      <td>Adventure</td>\n",
              "    </tr>\n",
              "    <tr>\n",
              "      <th>12</th>\n",
              "      <td>1982</td>\n",
              "      <td>Sci-Fi</td>\n",
              "    </tr>\n",
              "    <tr>\n",
              "      <th>13</th>\n",
              "      <td>1983</td>\n",
              "      <td>Adventure</td>\n",
              "    </tr>\n",
              "    <tr>\n",
              "      <th>14</th>\n",
              "      <td>1984</td>\n",
              "      <td>Action</td>\n",
              "    </tr>\n",
              "    <tr>\n",
              "      <th>15</th>\n",
              "      <td>1985</td>\n",
              "      <td>Sci-Fi</td>\n",
              "    </tr>\n",
              "    <tr>\n",
              "      <th>16</th>\n",
              "      <td>1986</td>\n",
              "      <td>Comedy</td>\n",
              "    </tr>\n",
              "    <tr>\n",
              "      <th>17</th>\n",
              "      <td>1987</td>\n",
              "      <td>Sci-Fi</td>\n",
              "    </tr>\n",
              "    <tr>\n",
              "      <th>18</th>\n",
              "      <td>1988</td>\n",
              "      <td>Comedy</td>\n",
              "    </tr>\n",
              "    <tr>\n",
              "      <th>19</th>\n",
              "      <td>1989</td>\n",
              "      <td>Comedy</td>\n",
              "    </tr>\n",
              "    <tr>\n",
              "      <th>20</th>\n",
              "      <td>1990</td>\n",
              "      <td>Comedy</td>\n",
              "    </tr>\n",
              "    <tr>\n",
              "      <th>21</th>\n",
              "      <td>1991</td>\n",
              "      <td>Comedy</td>\n",
              "    </tr>\n",
              "    <tr>\n",
              "      <th>22</th>\n",
              "      <td>1992</td>\n",
              "      <td>Comedy</td>\n",
              "    </tr>\n",
              "    <tr>\n",
              "      <th>23</th>\n",
              "      <td>1993</td>\n",
              "      <td>Kids</td>\n",
              "    </tr>\n",
              "    <tr>\n",
              "      <th>24</th>\n",
              "      <td>1994</td>\n",
              "      <td>Comedy</td>\n",
              "    </tr>\n",
              "    <tr>\n",
              "      <th>25</th>\n",
              "      <td>1995</td>\n",
              "      <td>Comedy</td>\n",
              "    </tr>\n",
              "    <tr>\n",
              "      <th>26</th>\n",
              "      <td>1996</td>\n",
              "      <td>Comedy</td>\n",
              "    </tr>\n",
              "    <tr>\n",
              "      <th>27</th>\n",
              "      <td>1997</td>\n",
              "      <td>Comedy</td>\n",
              "    </tr>\n",
              "    <tr>\n",
              "      <th>28</th>\n",
              "      <td>1998</td>\n",
              "      <td>Comedy</td>\n",
              "    </tr>\n",
              "    <tr>\n",
              "      <th>29</th>\n",
              "      <td>1999</td>\n",
              "      <td>Comedy</td>\n",
              "    </tr>\n",
              "    <tr>\n",
              "      <th>30</th>\n",
              "      <td>2000</td>\n",
              "      <td>Comedy</td>\n",
              "    </tr>\n",
              "    <tr>\n",
              "      <th>31</th>\n",
              "      <td>2001</td>\n",
              "      <td>Comedy</td>\n",
              "    </tr>\n",
              "    <tr>\n",
              "      <th>32</th>\n",
              "      <td>2002</td>\n",
              "      <td>Comedy</td>\n",
              "    </tr>\n",
              "    <tr>\n",
              "      <th>33</th>\n",
              "      <td>2003</td>\n",
              "      <td>Comedy</td>\n",
              "    </tr>\n",
              "    <tr>\n",
              "      <th>34</th>\n",
              "      <td>2004</td>\n",
              "      <td>Comedy</td>\n",
              "    </tr>\n",
              "    <tr>\n",
              "      <th>35</th>\n",
              "      <td>2005</td>\n",
              "      <td>Comedy</td>\n",
              "    </tr>\n",
              "    <tr>\n",
              "      <th>36</th>\n",
              "      <td>2006</td>\n",
              "      <td>Comedy</td>\n",
              "    </tr>\n",
              "    <tr>\n",
              "      <th>37</th>\n",
              "      <td>2007</td>\n",
              "      <td>Comedy</td>\n",
              "    </tr>\n",
              "    <tr>\n",
              "      <th>38</th>\n",
              "      <td>2008</td>\n",
              "      <td>Comedy</td>\n",
              "    </tr>\n",
              "    <tr>\n",
              "      <th>39</th>\n",
              "      <td>2009</td>\n",
              "      <td>Comedy</td>\n",
              "    </tr>\n",
              "    <tr>\n",
              "      <th>40</th>\n",
              "      <td>2010</td>\n",
              "      <td>Comedy</td>\n",
              "    </tr>\n",
              "    <tr>\n",
              "      <th>41</th>\n",
              "      <td>2011</td>\n",
              "      <td>Comedy</td>\n",
              "    </tr>\n",
              "    <tr>\n",
              "      <th>42</th>\n",
              "      <td>2012</td>\n",
              "      <td>Comedy</td>\n",
              "    </tr>\n",
              "    <tr>\n",
              "      <th>43</th>\n",
              "      <td>2013</td>\n",
              "      <td>Comedy</td>\n",
              "    </tr>\n",
              "    <tr>\n",
              "      <th>44</th>\n",
              "      <td>2014</td>\n",
              "      <td>Comedy</td>\n",
              "    </tr>\n",
              "    <tr>\n",
              "      <th>45</th>\n",
              "      <td>2015</td>\n",
              "      <td>Comedy</td>\n",
              "    </tr>\n",
              "    <tr>\n",
              "      <th>46</th>\n",
              "      <td>2016</td>\n",
              "      <td>Comedy</td>\n",
              "    </tr>\n",
              "    <tr>\n",
              "      <th>47</th>\n",
              "      <td>2017</td>\n",
              "      <td>Comedy</td>\n",
              "    </tr>\n",
              "    <tr>\n",
              "      <th>48</th>\n",
              "      <td>2018</td>\n",
              "      <td>Comedy</td>\n",
              "    </tr>\n",
              "    <tr>\n",
              "      <th>49</th>\n",
              "      <td>2019</td>\n",
              "      <td>Comedy</td>\n",
              "    </tr>\n",
              "  </tbody>\n",
              "</table>\n",
              "</div>\n",
              "      <button class=\"colab-df-convert\" onclick=\"convertToInteractive('df-85710e10-4cfc-4a25-a28f-6515a8a75bba')\"\n",
              "              title=\"Convert this dataframe to an interactive table.\"\n",
              "              style=\"display:none;\">\n",
              "        \n",
              "  <svg xmlns=\"http://www.w3.org/2000/svg\" height=\"24px\"viewBox=\"0 0 24 24\"\n",
              "       width=\"24px\">\n",
              "    <path d=\"M0 0h24v24H0V0z\" fill=\"none\"/>\n",
              "    <path d=\"M18.56 5.44l.94 2.06.94-2.06 2.06-.94-2.06-.94-.94-2.06-.94 2.06-2.06.94zm-11 1L8.5 8.5l.94-2.06 2.06-.94-2.06-.94L8.5 2.5l-.94 2.06-2.06.94zm10 10l.94 2.06.94-2.06 2.06-.94-2.06-.94-.94-2.06-.94 2.06-2.06.94z\"/><path d=\"M17.41 7.96l-1.37-1.37c-.4-.4-.92-.59-1.43-.59-.52 0-1.04.2-1.43.59L10.3 9.45l-7.72 7.72c-.78.78-.78 2.05 0 2.83L4 21.41c.39.39.9.59 1.41.59.51 0 1.02-.2 1.41-.59l7.78-7.78 2.81-2.81c.8-.78.8-2.07 0-2.86zM5.41 20L4 18.59l7.72-7.72 1.47 1.35L5.41 20z\"/>\n",
              "  </svg>\n",
              "      </button>\n",
              "      \n",
              "  <style>\n",
              "    .colab-df-container {\n",
              "      display:flex;\n",
              "      flex-wrap:wrap;\n",
              "      gap: 12px;\n",
              "    }\n",
              "\n",
              "    .colab-df-convert {\n",
              "      background-color: #E8F0FE;\n",
              "      border: none;\n",
              "      border-radius: 50%;\n",
              "      cursor: pointer;\n",
              "      display: none;\n",
              "      fill: #1967D2;\n",
              "      height: 32px;\n",
              "      padding: 0 0 0 0;\n",
              "      width: 32px;\n",
              "    }\n",
              "\n",
              "    .colab-df-convert:hover {\n",
              "      background-color: #E2EBFA;\n",
              "      box-shadow: 0px 1px 2px rgba(60, 64, 67, 0.3), 0px 1px 3px 1px rgba(60, 64, 67, 0.15);\n",
              "      fill: #174EA6;\n",
              "    }\n",
              "\n",
              "    [theme=dark] .colab-df-convert {\n",
              "      background-color: #3B4455;\n",
              "      fill: #D2E3FC;\n",
              "    }\n",
              "\n",
              "    [theme=dark] .colab-df-convert:hover {\n",
              "      background-color: #434B5C;\n",
              "      box-shadow: 0px 1px 3px 1px rgba(0, 0, 0, 0.15);\n",
              "      filter: drop-shadow(0px 1px 2px rgba(0, 0, 0, 0.3));\n",
              "      fill: #FFFFFF;\n",
              "    }\n",
              "  </style>\n",
              "\n",
              "      <script>\n",
              "        const buttonEl =\n",
              "          document.querySelector('#df-85710e10-4cfc-4a25-a28f-6515a8a75bba button.colab-df-convert');\n",
              "        buttonEl.style.display =\n",
              "          google.colab.kernel.accessAllowed ? 'block' : 'none';\n",
              "\n",
              "        async function convertToInteractive(key) {\n",
              "          const element = document.querySelector('#df-85710e10-4cfc-4a25-a28f-6515a8a75bba');\n",
              "          const dataTable =\n",
              "            await google.colab.kernel.invokeFunction('convertToInteractive',\n",
              "                                                     [key], {});\n",
              "          if (!dataTable) return;\n",
              "\n",
              "          const docLinkHtml = 'Like what you see? Visit the ' +\n",
              "            '<a target=\"_blank\" href=https://colab.research.google.com/notebooks/data_table.ipynb>data table notebook</a>'\n",
              "            + ' to learn more about interactive tables.';\n",
              "          element.innerHTML = '';\n",
              "          dataTable['output_type'] = 'display_data';\n",
              "          await google.colab.output.renderOutput(dataTable, element);\n",
              "          const docLink = document.createElement('div');\n",
              "          docLink.innerHTML = docLinkHtml;\n",
              "          element.appendChild(docLink);\n",
              "        }\n",
              "      </script>\n",
              "    </div>\n",
              "  </div>\n",
              "  "
            ]
          },
          "metadata": {},
          "execution_count": 528
        }
      ]
    },
    {
      "cell_type": "code",
      "source": [
        "max_genre_list1=[]                             #list of genres who has maximum no of avg members of all animes in that year\n",
        "for i in range(1970,2020):\n",
        "  df = dfanime[dfanime[\"Year\"]==i]\n",
        "  max_popularity=0\n",
        "  max_genre = \" \"\n",
        "  for j in genrelist:\n",
        "    if(df[df[j]==1][\"members\"].mean() > max_popularity):\n",
        "      max_popularity = df[df[j]==1][\"members\"].mean()\n",
        "      max_genre = j  \n",
        "  max_genre_list1.append(max_genre)\n",
        "\n",
        "year_genre1 = pd.DataFrame(list(zip(range(1970,2020),max_genre_list1)),columns =['Year' , 'Genre with most no of animes'])\n",
        "year_genre1                    # Table of Year & Genre with maximun avg members"
      ],
      "metadata": {
        "colab": {
          "base_uri": "https://localhost:8080/",
          "height": 0
        },
        "id": "Wg6vpT_guguh",
        "outputId": "41468420-56fd-42a4-ea66-801b4e0e0210"
      },
      "execution_count": 529,
      "outputs": [
        {
          "output_type": "execute_result",
          "data": {
            "text/plain": [
              "    Year Genre with most no of animes\n",
              "0   1970                Slice of Life\n",
              "1   1971                      Mystery\n",
              "2   1972                       Horror\n",
              "3   1973                        Drama\n",
              "4   1974                     Military\n",
              "5   1975                        Magic\n",
              "6   1976                       Shoujo\n",
              "7   1977                       Seinen\n",
              "8   1978                       Seinen\n",
              "9   1979                       Seinen\n",
              "10  1980                       Sports\n",
              "11  1981                      Romance\n",
              "12  1982                     Military\n",
              "13  1983                   Historical\n",
              "14  1984                 Martial Arts\n",
              "15  1985                      Vampire\n",
              "16  1986                 Martial Arts\n",
              "17  1987                  Super Power\n",
              "18  1988                 Supernatural\n",
              "19  1989                 Martial Arts\n",
              "20  1990                      Shounen\n",
              "21  1991                    Shoujo Ai\n",
              "22  1992                       Demons\n",
              "23  1993                      Vampire\n",
              "24  1994                       Shoujo\n",
              "25  1995                Psychological\n",
              "26  1996                      Samurai\n",
              "27  1997                Psychological\n",
              "28  1998                     Dementia\n",
              "29  1999                         Cars\n",
              "30  2000                       Sports\n",
              "31  2001                      Vampire\n",
              "32  2002                 Martial Arts\n",
              "33  2003                     Military\n",
              "34  2004                     Thriller\n",
              "35  2005                      Vampire\n",
              "36  2006                     Thriller\n",
              "37  2007                        Josei\n",
              "38  2008                       Demons\n",
              "39  2009                      Vampire\n",
              "40  2010                     Thriller\n",
              "41  2011                     Thriller\n",
              "42  2012                Psychological\n",
              "43  2013                     Military\n",
              "44  2014                       Horror\n",
              "45  2015                     Thriller\n",
              "46  2016                     Thriller\n",
              "47  2017                  Super Power\n",
              "48  2018                      Shounen\n",
              "49  2019                     Thriller"
            ],
            "text/html": [
              "\n",
              "  <div id=\"df-ca54bbeb-4f29-49d7-b3a7-99bef01b56e8\">\n",
              "    <div class=\"colab-df-container\">\n",
              "      <div>\n",
              "<style scoped>\n",
              "    .dataframe tbody tr th:only-of-type {\n",
              "        vertical-align: middle;\n",
              "    }\n",
              "\n",
              "    .dataframe tbody tr th {\n",
              "        vertical-align: top;\n",
              "    }\n",
              "\n",
              "    .dataframe thead th {\n",
              "        text-align: right;\n",
              "    }\n",
              "</style>\n",
              "<table border=\"1\" class=\"dataframe\">\n",
              "  <thead>\n",
              "    <tr style=\"text-align: right;\">\n",
              "      <th></th>\n",
              "      <th>Year</th>\n",
              "      <th>Genre with most no of animes</th>\n",
              "    </tr>\n",
              "  </thead>\n",
              "  <tbody>\n",
              "    <tr>\n",
              "      <th>0</th>\n",
              "      <td>1970</td>\n",
              "      <td>Slice of Life</td>\n",
              "    </tr>\n",
              "    <tr>\n",
              "      <th>1</th>\n",
              "      <td>1971</td>\n",
              "      <td>Mystery</td>\n",
              "    </tr>\n",
              "    <tr>\n",
              "      <th>2</th>\n",
              "      <td>1972</td>\n",
              "      <td>Horror</td>\n",
              "    </tr>\n",
              "    <tr>\n",
              "      <th>3</th>\n",
              "      <td>1973</td>\n",
              "      <td>Drama</td>\n",
              "    </tr>\n",
              "    <tr>\n",
              "      <th>4</th>\n",
              "      <td>1974</td>\n",
              "      <td>Military</td>\n",
              "    </tr>\n",
              "    <tr>\n",
              "      <th>5</th>\n",
              "      <td>1975</td>\n",
              "      <td>Magic</td>\n",
              "    </tr>\n",
              "    <tr>\n",
              "      <th>6</th>\n",
              "      <td>1976</td>\n",
              "      <td>Shoujo</td>\n",
              "    </tr>\n",
              "    <tr>\n",
              "      <th>7</th>\n",
              "      <td>1977</td>\n",
              "      <td>Seinen</td>\n",
              "    </tr>\n",
              "    <tr>\n",
              "      <th>8</th>\n",
              "      <td>1978</td>\n",
              "      <td>Seinen</td>\n",
              "    </tr>\n",
              "    <tr>\n",
              "      <th>9</th>\n",
              "      <td>1979</td>\n",
              "      <td>Seinen</td>\n",
              "    </tr>\n",
              "    <tr>\n",
              "      <th>10</th>\n",
              "      <td>1980</td>\n",
              "      <td>Sports</td>\n",
              "    </tr>\n",
              "    <tr>\n",
              "      <th>11</th>\n",
              "      <td>1981</td>\n",
              "      <td>Romance</td>\n",
              "    </tr>\n",
              "    <tr>\n",
              "      <th>12</th>\n",
              "      <td>1982</td>\n",
              "      <td>Military</td>\n",
              "    </tr>\n",
              "    <tr>\n",
              "      <th>13</th>\n",
              "      <td>1983</td>\n",
              "      <td>Historical</td>\n",
              "    </tr>\n",
              "    <tr>\n",
              "      <th>14</th>\n",
              "      <td>1984</td>\n",
              "      <td>Martial Arts</td>\n",
              "    </tr>\n",
              "    <tr>\n",
              "      <th>15</th>\n",
              "      <td>1985</td>\n",
              "      <td>Vampire</td>\n",
              "    </tr>\n",
              "    <tr>\n",
              "      <th>16</th>\n",
              "      <td>1986</td>\n",
              "      <td>Martial Arts</td>\n",
              "    </tr>\n",
              "    <tr>\n",
              "      <th>17</th>\n",
              "      <td>1987</td>\n",
              "      <td>Super Power</td>\n",
              "    </tr>\n",
              "    <tr>\n",
              "      <th>18</th>\n",
              "      <td>1988</td>\n",
              "      <td>Supernatural</td>\n",
              "    </tr>\n",
              "    <tr>\n",
              "      <th>19</th>\n",
              "      <td>1989</td>\n",
              "      <td>Martial Arts</td>\n",
              "    </tr>\n",
              "    <tr>\n",
              "      <th>20</th>\n",
              "      <td>1990</td>\n",
              "      <td>Shounen</td>\n",
              "    </tr>\n",
              "    <tr>\n",
              "      <th>21</th>\n",
              "      <td>1991</td>\n",
              "      <td>Shoujo Ai</td>\n",
              "    </tr>\n",
              "    <tr>\n",
              "      <th>22</th>\n",
              "      <td>1992</td>\n",
              "      <td>Demons</td>\n",
              "    </tr>\n",
              "    <tr>\n",
              "      <th>23</th>\n",
              "      <td>1993</td>\n",
              "      <td>Vampire</td>\n",
              "    </tr>\n",
              "    <tr>\n",
              "      <th>24</th>\n",
              "      <td>1994</td>\n",
              "      <td>Shoujo</td>\n",
              "    </tr>\n",
              "    <tr>\n",
              "      <th>25</th>\n",
              "      <td>1995</td>\n",
              "      <td>Psychological</td>\n",
              "    </tr>\n",
              "    <tr>\n",
              "      <th>26</th>\n",
              "      <td>1996</td>\n",
              "      <td>Samurai</td>\n",
              "    </tr>\n",
              "    <tr>\n",
              "      <th>27</th>\n",
              "      <td>1997</td>\n",
              "      <td>Psychological</td>\n",
              "    </tr>\n",
              "    <tr>\n",
              "      <th>28</th>\n",
              "      <td>1998</td>\n",
              "      <td>Dementia</td>\n",
              "    </tr>\n",
              "    <tr>\n",
              "      <th>29</th>\n",
              "      <td>1999</td>\n",
              "      <td>Cars</td>\n",
              "    </tr>\n",
              "    <tr>\n",
              "      <th>30</th>\n",
              "      <td>2000</td>\n",
              "      <td>Sports</td>\n",
              "    </tr>\n",
              "    <tr>\n",
              "      <th>31</th>\n",
              "      <td>2001</td>\n",
              "      <td>Vampire</td>\n",
              "    </tr>\n",
              "    <tr>\n",
              "      <th>32</th>\n",
              "      <td>2002</td>\n",
              "      <td>Martial Arts</td>\n",
              "    </tr>\n",
              "    <tr>\n",
              "      <th>33</th>\n",
              "      <td>2003</td>\n",
              "      <td>Military</td>\n",
              "    </tr>\n",
              "    <tr>\n",
              "      <th>34</th>\n",
              "      <td>2004</td>\n",
              "      <td>Thriller</td>\n",
              "    </tr>\n",
              "    <tr>\n",
              "      <th>35</th>\n",
              "      <td>2005</td>\n",
              "      <td>Vampire</td>\n",
              "    </tr>\n",
              "    <tr>\n",
              "      <th>36</th>\n",
              "      <td>2006</td>\n",
              "      <td>Thriller</td>\n",
              "    </tr>\n",
              "    <tr>\n",
              "      <th>37</th>\n",
              "      <td>2007</td>\n",
              "      <td>Josei</td>\n",
              "    </tr>\n",
              "    <tr>\n",
              "      <th>38</th>\n",
              "      <td>2008</td>\n",
              "      <td>Demons</td>\n",
              "    </tr>\n",
              "    <tr>\n",
              "      <th>39</th>\n",
              "      <td>2009</td>\n",
              "      <td>Vampire</td>\n",
              "    </tr>\n",
              "    <tr>\n",
              "      <th>40</th>\n",
              "      <td>2010</td>\n",
              "      <td>Thriller</td>\n",
              "    </tr>\n",
              "    <tr>\n",
              "      <th>41</th>\n",
              "      <td>2011</td>\n",
              "      <td>Thriller</td>\n",
              "    </tr>\n",
              "    <tr>\n",
              "      <th>42</th>\n",
              "      <td>2012</td>\n",
              "      <td>Psychological</td>\n",
              "    </tr>\n",
              "    <tr>\n",
              "      <th>43</th>\n",
              "      <td>2013</td>\n",
              "      <td>Military</td>\n",
              "    </tr>\n",
              "    <tr>\n",
              "      <th>44</th>\n",
              "      <td>2014</td>\n",
              "      <td>Horror</td>\n",
              "    </tr>\n",
              "    <tr>\n",
              "      <th>45</th>\n",
              "      <td>2015</td>\n",
              "      <td>Thriller</td>\n",
              "    </tr>\n",
              "    <tr>\n",
              "      <th>46</th>\n",
              "      <td>2016</td>\n",
              "      <td>Thriller</td>\n",
              "    </tr>\n",
              "    <tr>\n",
              "      <th>47</th>\n",
              "      <td>2017</td>\n",
              "      <td>Super Power</td>\n",
              "    </tr>\n",
              "    <tr>\n",
              "      <th>48</th>\n",
              "      <td>2018</td>\n",
              "      <td>Shounen</td>\n",
              "    </tr>\n",
              "    <tr>\n",
              "      <th>49</th>\n",
              "      <td>2019</td>\n",
              "      <td>Thriller</td>\n",
              "    </tr>\n",
              "  </tbody>\n",
              "</table>\n",
              "</div>\n",
              "      <button class=\"colab-df-convert\" onclick=\"convertToInteractive('df-ca54bbeb-4f29-49d7-b3a7-99bef01b56e8')\"\n",
              "              title=\"Convert this dataframe to an interactive table.\"\n",
              "              style=\"display:none;\">\n",
              "        \n",
              "  <svg xmlns=\"http://www.w3.org/2000/svg\" height=\"24px\"viewBox=\"0 0 24 24\"\n",
              "       width=\"24px\">\n",
              "    <path d=\"M0 0h24v24H0V0z\" fill=\"none\"/>\n",
              "    <path d=\"M18.56 5.44l.94 2.06.94-2.06 2.06-.94-2.06-.94-.94-2.06-.94 2.06-2.06.94zm-11 1L8.5 8.5l.94-2.06 2.06-.94-2.06-.94L8.5 2.5l-.94 2.06-2.06.94zm10 10l.94 2.06.94-2.06 2.06-.94-2.06-.94-.94-2.06-.94 2.06-2.06.94z\"/><path d=\"M17.41 7.96l-1.37-1.37c-.4-.4-.92-.59-1.43-.59-.52 0-1.04.2-1.43.59L10.3 9.45l-7.72 7.72c-.78.78-.78 2.05 0 2.83L4 21.41c.39.39.9.59 1.41.59.51 0 1.02-.2 1.41-.59l7.78-7.78 2.81-2.81c.8-.78.8-2.07 0-2.86zM5.41 20L4 18.59l7.72-7.72 1.47 1.35L5.41 20z\"/>\n",
              "  </svg>\n",
              "      </button>\n",
              "      \n",
              "  <style>\n",
              "    .colab-df-container {\n",
              "      display:flex;\n",
              "      flex-wrap:wrap;\n",
              "      gap: 12px;\n",
              "    }\n",
              "\n",
              "    .colab-df-convert {\n",
              "      background-color: #E8F0FE;\n",
              "      border: none;\n",
              "      border-radius: 50%;\n",
              "      cursor: pointer;\n",
              "      display: none;\n",
              "      fill: #1967D2;\n",
              "      height: 32px;\n",
              "      padding: 0 0 0 0;\n",
              "      width: 32px;\n",
              "    }\n",
              "\n",
              "    .colab-df-convert:hover {\n",
              "      background-color: #E2EBFA;\n",
              "      box-shadow: 0px 1px 2px rgba(60, 64, 67, 0.3), 0px 1px 3px 1px rgba(60, 64, 67, 0.15);\n",
              "      fill: #174EA6;\n",
              "    }\n",
              "\n",
              "    [theme=dark] .colab-df-convert {\n",
              "      background-color: #3B4455;\n",
              "      fill: #D2E3FC;\n",
              "    }\n",
              "\n",
              "    [theme=dark] .colab-df-convert:hover {\n",
              "      background-color: #434B5C;\n",
              "      box-shadow: 0px 1px 3px 1px rgba(0, 0, 0, 0.15);\n",
              "      filter: drop-shadow(0px 1px 2px rgba(0, 0, 0, 0.3));\n",
              "      fill: #FFFFFF;\n",
              "    }\n",
              "  </style>\n",
              "\n",
              "      <script>\n",
              "        const buttonEl =\n",
              "          document.querySelector('#df-ca54bbeb-4f29-49d7-b3a7-99bef01b56e8 button.colab-df-convert');\n",
              "        buttonEl.style.display =\n",
              "          google.colab.kernel.accessAllowed ? 'block' : 'none';\n",
              "\n",
              "        async function convertToInteractive(key) {\n",
              "          const element = document.querySelector('#df-ca54bbeb-4f29-49d7-b3a7-99bef01b56e8');\n",
              "          const dataTable =\n",
              "            await google.colab.kernel.invokeFunction('convertToInteractive',\n",
              "                                                     [key], {});\n",
              "          if (!dataTable) return;\n",
              "\n",
              "          const docLinkHtml = 'Like what you see? Visit the ' +\n",
              "            '<a target=\"_blank\" href=https://colab.research.google.com/notebooks/data_table.ipynb>data table notebook</a>'\n",
              "            + ' to learn more about interactive tables.';\n",
              "          element.innerHTML = '';\n",
              "          dataTable['output_type'] = 'display_data';\n",
              "          await google.colab.output.renderOutput(dataTable, element);\n",
              "          const docLink = document.createElement('div');\n",
              "          docLink.innerHTML = docLinkHtml;\n",
              "          element.appendChild(docLink);\n",
              "        }\n",
              "      </script>\n",
              "    </div>\n",
              "  </div>\n",
              "  "
            ]
          },
          "metadata": {},
          "execution_count": 529
        }
      ]
    },
    {
      "cell_type": "markdown",
      "source": [
        "### Age group and Favourite genre"
      ],
      "metadata": {
        "id": "ZaMxaMeMIE1x"
      }
    },
    {
      "cell_type": "code",
      "source": [
        "dfage3 = dfprofile[dfprofile[\"Age\"]>(30)]\n",
        "x = dfprofile[dfprofile[\"Age\"] <=(30)]\n",
        "dfage2 = x[x[\"Age\"]>(22)]\n",
        "dfage1 = x[x[\"Age\"]<=(22)]"
      ],
      "metadata": {
        "id": "1hJbBZ-3IQdJ"
      },
      "execution_count": 530,
      "outputs": []
    },
    {
      "cell_type": "code",
      "source": [
        "def Fav_List(df, column):\n",
        "  fav_list = []\n",
        "  for lists in df[column]:\n",
        "    lists = (lists.strip('[]')).split(', ')\n",
        "    for entry in lists:\n",
        "      fav_list.append(int(entry.strip(\"'\")))\n",
        "  return fav_list"
      ],
      "metadata": {
        "id": "bfil2Ea7pZQ9"
      },
      "execution_count": 531,
      "outputs": []
    },
    {
      "cell_type": "code",
      "source": [
        "def Gen_Prof(df1, df2, column1, column2, column3, list1, list2):\n",
        "  gen_prof = []\n",
        "  for uid in list2:\n",
        "    if len(df1[df1[column1] == uid].index.tolist()) > 0:\n",
        "      row_ind = df1[df1[column1] == uid].index.tolist()[0]\n",
        "      for genre in list1:\n",
        "        if str(genre) in df1[column2][row_ind]:\n",
        "          gen_prof.append(genre)\n",
        "  return gen_prof"
      ],
      "metadata": {
        "id": "bWXoVK_crqMQ"
      },
      "execution_count": 532,
      "outputs": []
    },
    {
      "cell_type": "code",
      "source": [
        "def plt_genre_age(list1):\n",
        "  plt.figure(figsize = (10,5))\n",
        "  plt.xticks(rotation = 90)\n",
        "  plt.xlabel(\"Genre\")\n",
        "  plt.ylabel(\"No. of Favourite Animes\")\n",
        "  sb.countplot(x = sorted(list1))"
      ],
      "metadata": {
        "id": "_vXna52lxvmS"
      },
      "execution_count": 533,
      "outputs": []
    },
    {
      "cell_type": "markdown",
      "source": [
        "For age group of (0-22) years"
      ],
      "metadata": {
        "id": "eas5oZ8BxRUZ"
      }
    },
    {
      "cell_type": "code",
      "source": [
        "fav_list1 = Fav_List(dfage1, 'favorites_anime')"
      ],
      "metadata": {
        "id": "MDkc76ZQqqhh"
      },
      "execution_count": 534,
      "outputs": []
    },
    {
      "cell_type": "code",
      "source": [
        "gen_prof1 = Gen_Prof(dfanime, dfage1, 'uid', 'genre', 'favorites_anime', genrelist, fav_list1)"
      ],
      "metadata": {
        "id": "IUO615MFtPpj"
      },
      "execution_count": 535,
      "outputs": []
    },
    {
      "cell_type": "code",
      "source": [
        "plt_genre_age(gen_prof1)"
      ],
      "metadata": {
        "id": "f3WtOPRCyENg",
        "colab": {
          "base_uri": "https://localhost:8080/",
          "height": 391
        },
        "outputId": "437eb88a-f009-450b-a62f-a768fe7309c3"
      },
      "execution_count": 536,
      "outputs": [
        {
          "output_type": "display_data",
          "data": {
            "text/plain": [
              "<Figure size 720x360 with 1 Axes>"
            ],
            "image/png": "[encoded data removed]"
          },
          "metadata": {}
        }
      ]
    },
    {
      "cell_type": "markdown",
      "source": [
        "For age group of (22-30) years"
      ],
      "metadata": {
        "id": "Txb2RP2kyQGo"
      }
    },
    {
      "cell_type": "code",
      "source": [
        "fav_list2 = Fav_List(dfage2, 'favorites_anime')"
      ],
      "metadata": {
        "id": "IPTBeRVTpGRL"
      },
      "execution_count": 537,
      "outputs": []
    },
    {
      "cell_type": "code",
      "source": [
        "gen_prof2 = Gen_Prof(dfanime, dfage2, 'uid', 'genre', 'favorites_anime', genrelist, fav_list2)"
      ],
      "metadata": {
        "id": "CQF6wlbgpGet"
      },
      "execution_count": 538,
      "outputs": []
    },
    {
      "cell_type": "code",
      "source": [
        "plt_genre_age(gen_prof2)"
      ],
      "metadata": {
        "id": "vkNpu-7jyfXp",
        "colab": {
          "base_uri": "https://localhost:8080/",
          "height": 391
        },
        "outputId": "7f6e11ba-bffe-48f8-96cd-ab827239be5d"
      },
      "execution_count": 539,
      "outputs": [
        {
          "output_type": "display_data",
          "data": {
            "text/plain": [
              "<Figure size 720x360 with 1 Axes>"
            ],
            "image/png": "[encoded data removed]"
          },
          "metadata": {}
        }
      ]
    },
    {
      "cell_type": "markdown",
      "source": [
        "For the age group of (>30) years"
      ],
      "metadata": {
        "id": "6A9j_VADyc81"
      }
    },
    {
      "cell_type": "code",
      "source": [
        "fav_list3 = Fav_List(dfage3, 'favorites_anime')"
      ],
      "metadata": {
        "id": "wUXyvzwgyePv"
      },
      "execution_count": 540,
      "outputs": []
    },
    {
      "cell_type": "code",
      "source": [
        "gen_prof3 = Gen_Prof(dfanime, dfage3, 'uid', 'genre', 'favorites_anime', genrelist, fav_list3)"
      ],
      "metadata": {
        "id": "PMbNXD5ZyeY6"
      },
      "execution_count": 541,
      "outputs": []
    },
    {
      "cell_type": "code",
      "source": [
        "plt_genre_age(gen_prof3)"
      ],
      "metadata": {
        "id": "XlyRMhpgyelF",
        "colab": {
          "base_uri": "https://localhost:8080/",
          "height": 391
        },
        "outputId": "014a65c2-5f58-4ce4-fad7-52a82002de71"
      },
      "execution_count": 542,
      "outputs": [
        {
          "output_type": "display_data",
          "data": {
            "text/plain": [
              "<Figure size 720x360 with 1 Axes>"
            ],
            "image/png": "[encoded data removed]"
          },
          "metadata": {}
        }
      ]
    },
    {
      "cell_type": "markdown",
      "source": [
        "###Gender and Favourite genre"
      ],
      "metadata": {
        "id": "QbwOzzEs3bH2"
      }
    },
    {
      "cell_type": "code",
      "source": [
        "dfmale = dfprofile[dfprofile[\"gender\"]==\"Male\"]\n",
        "dffemale = dfprofile[dfprofile[\"gender\"]==\"Female\"]"
      ],
      "metadata": {
        "id": "svAeUv4g3gkH"
      },
      "execution_count": 543,
      "outputs": []
    },
    {
      "cell_type": "code",
      "source": [
        "fav_listM = Fav_List(dfmale, 'favorites_anime')\n",
        "fav_listF = Fav_List(dffemale, 'favorites_anime')"
      ],
      "metadata": {
        "id": "gR6QC_JT3tI7"
      },
      "execution_count": 544,
      "outputs": []
    },
    {
      "cell_type": "code",
      "source": [
        "gen_profM = Gen_Prof(dfanime, dfmale, 'uid', 'genre', 'favorites_anime', genrelist, fav_listM)\n",
        "gen_profF = Gen_Prof(dfanime, dffemale, 'uid', 'genre', 'favorites_anime', genrelist, fav_listF)"
      ],
      "metadata": {
        "id": "B_EKHiJm3tUE"
      },
      "execution_count": 545,
      "outputs": []
    },
    {
      "cell_type": "code",
      "source": [
        "plt.figure(figsize = (10,5))\n",
        "plt.xticks(rotation = 90)\n",
        "plt.hist(sorted(gen_profM), label='Male', alpha=.7, bins = 40,color='blue')\n",
        "plt.hist(sorted(gen_profF), label='Female', alpha=.5, bins = 40 ,color='yellow')\n",
        "plt.legend()\n",
        "plt.xlabel(\"Genre\")\n",
        "plt.ylabel(\"No. of Favourite Animes\")\n",
        "plt.show()"
      ],
      "metadata": {
        "id": "ompiR_ks84KZ",
        "colab": {
          "base_uri": "https://localhost:8080/",
          "height": 391
        },
        "outputId": "5d019280-fe2b-4e9f-cae1-a23e951f585a"
      },
      "execution_count": 546,
      "outputs": [
        {
          "output_type": "display_data",
          "data": {
            "text/plain": [
              "<Figure size 720x360 with 1 Axes>"
            ],
            "image/png": "[encoded data removed]"
          },
          "metadata": {}
        }
      ]
    },
    {
      "cell_type": "markdown",
      "source": [
        "### Top 5 Anime"
      ],
      "metadata": {
        "id": "IbRkXXD0Ifb8"
      }
    },
    {
      "cell_type": "code",
      "source": [
        "import operator\n",
        "fav_list = fav_listM\n",
        "fav_list.extend(fav_listF)\n",
        "frequency = collections.Counter(fav_list)\n",
        "dict1 = dict(sorted(dict(frequency).items(), key=operator.itemgetter(1), reverse=True)[:5])"
      ],
      "metadata": {
        "id": "2Q9PP54hEM5B"
      },
      "execution_count": 547,
      "outputs": []
    },
    {
      "cell_type": "code",
      "source": [
        "for i in list(dict1.keys()):\n",
        "  print(dfanime[dfanime[\"uid\"]==i][\"title\"])   #top 5 anime based on favourites"
      ],
      "metadata": {
        "colab": {
          "base_uri": "https://localhost:8080/"
        },
        "id": "X0Wpa3HzGUT5",
        "outputId": "6b845b9d-1418-4a2b-8319-203b6374338a"
      },
      "execution_count": 548,
      "outputs": [
        {
          "output_type": "stream",
          "name": "stdout",
          "text": [
            "3       Fullmetal Alchemist: Brotherhood\n",
            "3080    Fullmetal Alchemist: Brotherhood\n",
            "Name: title, dtype: object\n",
            "773      Steins;Gate\n",
            "18281    Steins;Gate\n",
            "Name: title, dtype: object\n",
            "740      Death Note\n",
            "17762    Death Note\n",
            "Name: title, dtype: object\n",
            "772      Hunter x Hunter (2011)\n",
            "18280    Hunter x Hunter (2011)\n",
            "Name: title, dtype: object\n",
            "14      Clannad: After Story\n",
            "3091    Clannad: After Story\n",
            "Name: title, dtype: object\n"
          ]
        }
      ]
    }
  ],
  "metadata": {
    "colab": {
      "provenance": [],
      "collapsed_sections": [
        "EdmRwOD9GtBF",
        "CTuMbLyewQrY"
      ]
    },
    "kernelspec": {
      "display_name": "Python 3",
      "name": "python3"
    },
    "language_info": {
      "name": "python"
    }
  },
  "nbformat": 4,
  "nbformat_minor": 0
}